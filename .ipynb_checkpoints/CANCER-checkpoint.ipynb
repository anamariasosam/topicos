{
 "cells": [
  {
   "cell_type": "code",
   "execution_count": 53,
   "metadata": {},
   "outputs": [
    {
     "name": "stdout",
     "output_type": "stream",
     "text": [
      "mean radius corresponds to 4\n",
      "mean texture corresponds to 5\n",
      "mean perimeter corresponds to 5\n",
      "mean area corresponds to 4\n",
      "mean smoothness corresponds to 4\n",
      "mean compactness corresponds to 4\n",
      "mean concavity corresponds to 4\n",
      "mean concave points corresponds to 5\n",
      "mean symmetry corresponds to 4\n",
      "mean fractal dimension corresponds to 4\n",
      "radius error corresponds to 4\n",
      "texture error corresponds to 5\n",
      "perimeter error corresponds to 4\n",
      "area error corresponds to 4\n",
      "smoothness error corresponds to 4\n",
      "compactness error corresponds to 6\n",
      "concavity error corresponds to 4\n",
      "concave points error corresponds to 3\n",
      "symmetry error corresponds to 4\n",
      "fractal dimension error corresponds to 5\n",
      "worst radius corresponds to 5\n",
      "worst texture corresponds to 4\n",
      "worst perimeter corresponds to 5\n",
      "worst area corresponds to 4\n",
      "worst smoothness corresponds to 6\n",
      "worst compactness corresponds to 4\n",
      "worst concavity corresponds to 4\n",
      "worst concave points corresponds to 5\n",
      "worst symmetry corresponds to 6\n"
     ]
    }
   ],
   "source": [
    "import numpy as np\n",
    "from sklearn import datasets\n",
    "from sklearn.linear_model import LogisticRegression\n",
    "from sklearn.cross_validation import train_test_split\n",
    "from collections import OrderedDict\n",
    "\n",
    "# Tecnica de remoción es la mejor!!!\n",
    "def remocion_train(X) :\n",
    "    X = X - X.mean(axis=0)\n",
    "    X = X/X.std(axis=0)\n",
    "\n",
    "    return X\n",
    "\n",
    "def remocion_test(X_test) :\n",
    "    media = X_train.mean(axis=0)\n",
    "    desviacion = X_train.std(axis=0)\n",
    "\n",
    "    X_test = X_test - media\n",
    "    X_test = X_test/desviacion\n",
    "\n",
    "    return X_test\n",
    "\n",
    "data = {}\n",
    "etiquetas = list(cancer.feature_names)\n",
    "for i in range(0, 29):\n",
    "    cancer = datasets.load_breast_cancer()\n",
    "    \n",
    "    X = cancer.data[:,:]\n",
    "    X = np.delete(X, i, 1)\n",
    "    y = cancer.target\n",
    "    \n",
    "    X_train, X_test, y_train, y_test = train_test_split(X, y, test_size=0.3, random_state=0)\n",
    "\n",
    "    x_train_norm = remocion_train(X_train)\n",
    "    x_test_norm = remocion_test(X_test)\n",
    "\n",
    "    clasificador = LogisticRegression(C=1.0, random_state=0)\n",
    "    clasificador.fit(x_train_norm, y_train)\n",
    "\n",
    "    y_predict = clasificador.predict(x_test_norm)\n",
    "    diferentes = (y_test != y_predict).sum()\n",
    "    data.update({etiquetas[i]:diferentes})\n",
    "\n",
    "index = 0\n",
    "for k,v in data.items():\n",
    "    \n",
    "    print(k, 'corresponds to', v)\n",
    "\n",
    "    for key, value in sorted(mydict.iteritems(), key=lambda (k,v): (v,k)):\n",
    "    print \"%s: %s\" % (key, value)"
   ]
  },
  {
   "cell_type": "code",
   "execution_count": null,
   "metadata": {
    "collapsed": true
   },
   "outputs": [],
   "source": []
  }
 ],
 "metadata": {
  "kernelspec": {
   "display_name": "Python 3",
   "language": "python",
   "name": "python3"
  },
  "language_info": {
   "codemirror_mode": {
    "name": "ipython",
    "version": 3
   },
   "file_extension": ".py",
   "mimetype": "text/x-python",
   "name": "python",
   "nbconvert_exporter": "python",
   "pygments_lexer": "ipython3",
   "version": "3.6.1"
  }
 },
 "nbformat": 4,
 "nbformat_minor": 2
}
