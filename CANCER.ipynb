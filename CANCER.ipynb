{
 "cells": [
  {
   "cell_type": "code",
   "execution_count": 34,
   "metadata": {},
   "outputs": [
    {
     "name": "stdout",
     "output_type": "stream",
     "text": [
      "{'worst symmetry': 6, 'worst smoothness': 6, 'compactness error': 6, 'worst radius': 5, 'worst perimeter': 5, 'worst fractal dimension': 5, 'worst concave points': 5, 'texture error': 5, 'mean texture': 5, 'mean perimeter': 5, 'mean concave points': 5, 'fractal dimension error': 5, 'worst texture': 4, 'worst concavity': 4, 'worst compactness': 4, 'worst area': 4, 'symmetry error': 4, 'smoothness error': 4, 'radius error': 4, 'perimeter error': 4, 'mean symmetry': 4, 'mean smoothness': 4, 'mean radius': 4, 'mean fractal dimension': 4, 'mean concavity': 4, 'mean compactness': 4, 'mean area': 4, 'concavity error': 4, 'area error': 4, 'concave points error': 3}\n"
     ]
    }
   ],
   "source": [
    "import numpy as np\n",
    "from sklearn import datasets\n",
    "from sklearn.linear_model import LogisticRegression\n",
    "from sklearn.cross_validation import train_test_split\n",
    "\n",
    "# Eliminamos la tendencia central de las características para la matriz de entrenamiento\n",
    "def remocion_train(X) :\n",
    "    X = X - X.mean(axis=0)\n",
    "    X = X/X.std(axis=0)\n",
    "\n",
    "    return X\n",
    "\n",
    "# Eliminamos la tendencia central de las características para la matriz de prueba\n",
    "def remocion_test(X_test) :\n",
    "    media = X_train.mean(axis=0)\n",
    "    desviacion = X_train.std(axis=0)\n",
    "\n",
    "    X_test = X_test - media\n",
    "    X_test = X_test/desviacion\n",
    "\n",
    "    return X_test\n",
    "\n",
    "# Organizamos el diccionario descendentemente para saber las características que más aportan\n",
    "def sort_dictionary(dictionary) :\n",
    "    # Creamos un nuevo diccionario\n",
    "    new_dict = {}\n",
    "    # El item[1] es el valor y el item[0] es la llave, reverse=True nos permite hacerlo descendente\n",
    "    for key, value in sorted(dictionary.items(), key=lambda item: (item[1], item[0]), reverse=True):\n",
    "        # Llenamos el diccionario con los datos organizados\n",
    "        new_dict.update({key:value})\n",
    "        \n",
    "    return new_dict\n",
    "\n",
    "# Creamos el diccionario, cargamos los datos de la libreria\n",
    "# y una lista con las etiquetas del cancer\n",
    "resultados = {}\n",
    "cancer = datasets.load_breast_cancer()\n",
    "etiquetas = cancer.feature_names\n",
    "\n",
    "# Vamos eliminando las 30 etiquetas una a una para obtener las\n",
    "for i in range(0, 30):\n",
    "    # Cogemos todas las observaciones\n",
    "    X = cancer.data[:,:]\n",
    "    # Vamos eliminando iterativamente (i) la característica \n",
    "    X = np.delete(X, i, 1)\n",
    "    # Las clases maligna y no maligna\n",
    "    y = cancer.target\n",
    "    \n",
    "    # Separamos los datos con un 30% para test y un 70% para entrenar y una semilla de valor 0\n",
    "    X_train, X_test, y_train, y_test = train_test_split(X, y, test_size=0.3, random_state=0)\n",
    "\n",
    "    # Aplicamos la técnica de preprocesamiento para las dos entramiento y test\n",
    "    x_train_norm = remocion_train(X_train)\n",
    "    x_test_norm = remocion_test(X_test)\n",
    "    \n",
    "    # Entrenamos el clasificador con un factor de regulación de 1.0\n",
    "    clasificador = LogisticRegression(C=1.0, random_state=0)\n",
    "    clasificador.fit(x_train_norm, y_train)\n",
    "\n",
    "    # Obtenermos los resultados, comparamos los que son diferentes\n",
    "    y_predict = clasificador.predict(x_test_norm)\n",
    "    diferentes = (y_test != y_predict).sum()\n",
    "    \n",
    "    # Guardamos en el diccionario el nombre de la característica con el valor \n",
    "    # de muestras diferentes que obtuvo\n",
    "    resultados.update({etiquetas[i]:diferentes})\n",
    "\n",
    "# Organizamos los valores de mayor a menor e imprimimos los resultados\n",
    "resultados = sort_dictionary(resultados)\n",
    "print(resultados)\n"
   ]
  },
  {
   "cell_type": "code",
   "execution_count": null,
   "metadata": {
    "collapsed": true
   },
   "outputs": [],
   "source": []
  }
 ],
 "metadata": {
  "kernelspec": {
   "display_name": "Python 3",
   "language": "python",
   "name": "python3"
  },
  "language_info": {
   "codemirror_mode": {
    "name": "ipython",
    "version": 3
   },
   "file_extension": ".py",
   "mimetype": "text/x-python",
   "name": "python",
   "nbconvert_exporter": "python",
   "pygments_lexer": "ipython3",
   "version": "3.6.1"
  }
 },
 "nbformat": 4,
 "nbformat_minor": 2
}
