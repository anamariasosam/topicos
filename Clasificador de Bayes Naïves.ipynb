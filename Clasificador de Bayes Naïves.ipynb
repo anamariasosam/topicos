{
 "cells": [
  {
   "cell_type": "markdown",
   "metadata": {},
   "source": [
    "## Clasificador de Bayes \"ingenuo\"\n",
    "Simple, asume que las características son linealmente independiente y que son identicamente distribuidos. \n",
    "\n",
    "\n",
    "ingenuo porque asume con su características indpendientes!!\n",
    "\n",
    "\n",
    "Las características son i.i.d (independientes e idénticamente distribuidas), generalmente con función de densidad de probabilidad Normal o Gaussiana. La idea de este clasificador es maximizar la probabilidad posterior, de tal forma que:\n",
    "\n",
    "$$\\omega_(predict) = \\arg\\max_{j=1, \\ldots, m}P(\\omega_j|\\mathbf{x}_i),$$\n",
    "\n",
    "\n",
    "Donde $P(\\omega_j|\\mathbf{x}_i)$ es la probabilidad posterior, esto es, la probabilidad de encontrar una etiqueta de clase $\\omega_j$ dado un conjunto de patrones $\\mathbf{x}_i$ y $\\omega_(predict)$ es la etiqueta de clase determinada por el clasificador.\n",
    "\n",
    "La probabilidad posterior está dada por:\n",
    "\n",
    "$$P(\\omega_j|\\mathbf{x}_i)=\\frac{P(\\mathbf{x}_i|\\omega_j)P(\\omega_j)}{P(\\mathbf{x}_i)},$$\n",
    "\n",
    "\n",
    "$P(\\mathbf{x}_i|\\omega_j)=\\prod_{k=1,\\ldots,p}P(x_{ik}|\\omega_j$ la verosimilitud, $P(\\mathbf{x}_i)$\n",
    "la evidencia y $P(\\omega_j)$ la probabilidad prior o *a priori*\n",
    "\n",
    "Se aplica a:\n",
    "- Filtrado de correo (SPAM)\n",
    "- Clasificación de secuencias RNA (ácido ribonucleico)\n",
    "- Diagnostico\n",
    "\n",
    "\n",
    "Pposterior = (Pcondicional* Pprior)/Evidencia\n",
    "\n",
    "\n",
    "P(Wj | Xi)\n",
    "\n",
    "Wj: Conjunto de etiquetas( W0, W1, Wm)\n",
    "Xi: Patrones o Características de la observación i=1..n\n",
    "P(Wj | Xi): Probabilidad de obtener la etiqueta de clase Wj dada un patrón Xi observado\n",
    "\n",
    "**Pcondicional** - Verosimilitud \n",
    "Encontrar cierto patrones dada la clase a la que pertenece\n",
    "\n",
    "Probabilidad de que es de Antioquia dado unos rasgos\n",
    "\n",
    "P(Xi | Wj): \n",
    "\n",
    "Probabilidad de observar el conjunto de características Xi dado que se encuentren en la clase Wj \n",
    "\n",
    "**Pprior** - Probabilidad de las clases en general, de las etiquetas(W) - Con conocimiento previo\n",
    "\n",
    "Probabilidad de que sea de Antioquia dada toda la población colombiana\n",
    "\n",
    "**Evidencia** - Probabilidad de enontrar un patrón determinado dentro de toda la población sin importar la clase\n",
    "\n",
    "## Pasos \n",
    "1. Encontrar la probabilidad condicional - verosimilitud\n",
    "2. Prior\n",
    "3. Establecer la regla con la Probabilidad Posteriori "
   ]
  },
  {
   "cell_type": "code",
   "execution_count": 3,
   "metadata": {},
   "outputs": [
    {
     "name": "stdout",
     "output_type": "stream",
     "text": [
      "El acc de clasificacion es del  96.6666666667 %\n"
     ]
    },
    {
     "data": {
      "image/png": "[encoded data removed]",
      "text/plain": [
       "<matplotlib.figure.Figure at 0x1061945f8>"
      ]
     },
     "metadata": {},
     "output_type": "display_data"
    }
   ],
   "source": [
    "# importamos las librerías necesarias\n",
    "import numpy as np\n",
    "import matplotlib.pyplot as plt\n",
    "from sklearn.naive_bayes import GaussianNB \n",
    "from sklearn import cross_validation\n",
    "from sklearn import datasets\n",
    "\n",
    "def graficar_clasificador(clasificador, X, y):\n",
    "    # definimos valores máximos y mínimos de la malla que vamos a graficar\n",
    "    min_x, max_x = X[:,0].min() - 1.0 , X[:,0].max() + 1.0\n",
    "    min_y, max_y = X[:,1].min() - 1.0 , X[:,1].max() + 1.0\n",
    "    \n",
    "    paso = 0.01\n",
    "    \n",
    "    x_vals, y_vals = np.mgrid[min_x:max_x:paso, min_y:max_y:paso]\n",
    "    \n",
    "    # corremos el clasificador sobre la malla\n",
    "    resultados = clasificador.predict(np.c_[x_vals.ravel(), y_vals.ravel()])\n",
    "    \n",
    "    resultados = resultados.reshape(x_vals.shape)\n",
    "    \n",
    "    \n",
    "    plt.figure()\n",
    "    plt.pcolormesh(x_vals, y_vals, resultados, cmap=plt.cm.Pastel1)\n",
    "    plt.scatter(X[:,0], X[:,1],c=y, s=75, edgecolors='black', linewidth=1, cmap=plt.cm.Set2 )\n",
    "    plt.xlim(x_vals.min(), x_vals.max())\n",
    "    plt.ylim(y_vals.min(), y_vals.max())\n",
    "    plt.show()\n",
    "\n",
    "# importar los datos desde texto plano separado por comas\n",
    "# archivo_entrada = 'Datos.txt' \n",
    "# datos = np.loadtxt(archivo_entrada, delimiter=',') \n",
    "# X,y = datos[:, :-1], datos[:, -1]\n",
    "\n",
    "iris = datasets.load_iris()\n",
    "X = iris.data[:,[1,3]]\n",
    "y = iris.target\n",
    "\n",
    "X_train, X_test, y_train, y_test = cross_validation.train_test_split(X,y, test_size=0.2, random_state=3)\n",
    "\n",
    "clasificador = GaussianNB()\n",
    "clasificador.fit(X_train, y_train)\n",
    "\n",
    "y_predict = clasificador.predict(X_test)\n",
    "\n",
    "acc = 100.0*(y_predict == y_test).sum()/X_test.shape[0]\n",
    "print('El acc de clasificacion es del ', acc, '%')\n",
    "\n",
    "graficar_clasificador(clasificador, X_test, y_test)"
   ]
  }
 ],
 "metadata": {
  "kernelspec": {
   "display_name": "Python 3",
   "language": "python",
   "name": "python3"
  },
  "language_info": {
   "codemirror_mode": {
    "name": "ipython",
    "version": 3
   },
   "file_extension": ".py",
   "mimetype": "text/x-python",
   "name": "python",
   "nbconvert_exporter": "python",
   "pygments_lexer": "ipython3",
   "version": "3.6.1"
  }
 },
 "nbformat": 4,
 "nbformat_minor": 2
}
