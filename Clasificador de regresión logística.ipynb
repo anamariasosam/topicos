{
 "cells": [
  {
   "cell_type": "markdown",
   "metadata": {},
   "source": [
    "# Clasficador por Regresión Logística\n",
    "Se utiliza para problemas biclase y donde las clases son linealment separables. Sus prestaciones se pueden extender a problemas multiclase a traves de la tecnica \"OvR\". Este clasificador parte de la probabilidad a favor de un determinado evento, definida por la *razon de momios*.\n",
    "1. Funciona para clases linealmente separables\n",
    "2. Problemas binarios o biclase \n",
    "    One vs Rest (OvR)\n",
    "    Se puede extender a problemas multiclase\n",
    "    \n",
    "## Razón de Momios\n",
    "Relación de dos probibilidades, la razón a favor de un evento. Qué tan favorecido está un evento.\n",
    "\n",
    "$$OR = \\frac{p}{1-p}$$\n",
    "\n",
    "donde $p$ es la probabilidad del evento. \n",
    "\n",
    "Al OR le podemos calcular el logaritmo para obtener la función **logit**.\n",
    "\n",
    "$$logit(p)= \\log\\frac{p}{1-p}$$\n",
    "\n",
    "en terminos de los parametros de entrada a nuestra clasificador tendremos:\n",
    "$$logit(p)= logit(P(y =1| \\mathbf{x}))= w_0x_0 + w_1x_1+\\dots + w_{1-p}x_{1-p}$$\n",
    "\n",
    "Cuando la razón de momios es muy pequeña sacamos logit para agrandarla\n",
    "\n",
    "\n",
    "    Lo que queremos hacer es depejar la probabilidad del evento, que se va a relacionar con la probabilidad de que una observación pertenzca a la clase con etiqueta $y-1$. Para ello utllizamos la función inversa, que se denomina **sigmoide**"
   ]
  },
  {
   "cell_type": "code",
   "execution_count": 2,
   "metadata": {},
   "outputs": [
    {
     "data": {
      "image/png": "[encoded data removed]",
      "text/plain": [
       "<matplotlib.figure.Figure at 0x2712c2dd3c8>"
      ]
     },
     "metadata": {},
     "output_type": "display_data"
    }
   ],
   "source": [
    "import matplotlib.pyplot as plt\n",
    "import numpy as np\n",
    "\n",
    "def sigmoide(z):\n",
    "    return 1.0/(1.0 + np.exp(-z))\n",
    "\n",
    "# Para probarlo necesitamos un vector de entrada que es z\n",
    "\n",
    "z = np.mgrid[-10:10:0.1]\n",
    "fi = sigmoide(z)\n",
    "\n",
    "# para graficar \n",
    "\n",
    "plt.plot(z,fi)\n",
    "plt.axvline(0,0, color='k')\n",
    "plt.axhline(y=0.5, color='k')\n",
    "plt.ylabel('$\\phi(z)$')\n",
    "plt.xlabel('z')\n",
    "plt.show()"
   ]
  },
  {
   "cell_type": "markdown",
   "metadata": {},
   "source": [
    "# Base de datos (Iris)\n",
    "\n",
    "Muy utilizado para probar los algoritmos de ML, Consiste en 150 observaciones y 3 clases(50 observaciones por clase). Las tres clases son las siguientes: *Iris Setosa*, *Iris Versicolor*, *Iris Virginica*. Cada observación tiene cuatro caracteristicas largo y ancho del sépalo y el largo y ancho del petalo\n",
    "\n",
    "![](https://upload.wikimedia.org/wikipedia/commons/thumb/c/c5/P%C3%A9talo-s%C3%A9palo.jpg/220px-P%C3%A9talo-s%C3%A9palo.jpg)"
   ]
  },
  {
   "cell_type": "code",
   "execution_count": 78,
   "metadata": {},
   "outputs": [
    {
     "name": "stdout",
     "output_type": "stream",
     "text": [
      "[0 1 2]\n"
     ]
    }
   ],
   "source": [
    "from sklearn import datasets\n",
    "from sklearn.linear_model import LogisticRegression\n",
    "from sklearn.cross_validation import train_test_split\n",
    "from sklearn.preprocessing import StandardScaler\n",
    "\n",
    "iris = datasets.load_iris()\n",
    "X = iris.data[:,[2,3]]\n",
    "y = iris.target\n",
    "\n",
    "print(np.unique(y))\n",
    "\n",
    "X_train, X_test, y_train, y_test = train_test_split(X, y, test_size=0.3, random_state=0)\n"
   ]
  },
  {
   "cell_type": "code",
   "execution_count": 48,
   "metadata": {},
   "outputs": [
    {
     "name": "stdout",
     "output_type": "stream",
     "text": [
      "numero de muestras iguales fueron 44\n"
     ]
    }
   ],
   "source": [
    "# Remoción\n",
    "\n",
    "def remocion_train(X):\n",
    "    X = X - X.mean(axis=0)\n",
    "    X = X/X.std(axis=0)\n",
    "    \n",
    "    return X\n",
    "\n",
    "def remocion_test(X_test):\n",
    "    media = X_train.mean(axis=0)\n",
    "    desviacion = X_train.std(axis=0)\n",
    "    \n",
    "    X_test = X_test - media\n",
    "    X_test = X_test/desviacion\n",
    "    \n",
    "    return X_test\n",
    "\n",
    "x_train_norm = remocion_train(X_train)\n",
    "x_test_norm = remocion_test(X_test)\n",
    "\n",
    "# ahora entrenamos el clasificador \n",
    "\n",
    "clasificador = LogisticRegression(C=10000000.0, random_state=0)\n",
    "clasificador.fit(x_train_norm, y_train)\n",
    "\n",
    "y_pred = clasificador.predict(x_test_norm)\n",
    "\n",
    "print('numero de muestras iguales fueron %d'%(y_test == y_pred).sum())"
   ]
  },
  {
   "cell_type": "code",
   "execution_count": 76,
   "metadata": {},
   "outputs": [
    {
     "name": "stdout",
     "output_type": "stream",
     "text": [
      "numero de muestras iguales fueron 27\n",
      "de 45\n"
     ]
    }
   ],
   "source": [
    "# Binarizacion\n",
    "def binarizacion(X, gamma) :\n",
    "    filas = np.shape(X)[0]\n",
    "    columnas = np.shape(X)[1]\n",
    "    \n",
    "    for i in range(filas) :\n",
    "        for j in range(columnas) :\n",
    "            X[i][j] = 1 if X[i][j] >= gamma else 0\n",
    "    return X\n",
    "\n",
    "\n",
    "gamma = ( X_train.min() + X_train.max())/2\n",
    "\n",
    "x_train_norm =  binarizacion(X_train, gamma)\n",
    "x_test_norm =  binarizacion(X_test, gamma)\n",
    "\n",
    "\n",
    "clasificador = LogisticRegression(C=20.0, random_state=0)\n",
    "clasificador.fit(x_train_norm, y_train)\n",
    "\n",
    "y_pred = clasificador.predict(x_test_norm)\n",
    "\n",
    "print('numero de muestras iguales fueron %d'%(y_test == y_pred).sum())\n",
    "print('de %d'% len(y_pred) )\n"
   ]
  },
  {
   "cell_type": "code",
   "execution_count": 86,
   "metadata": {},
   "outputs": [
    {
     "name": "stdout",
     "output_type": "stream",
     "text": [
      "numero de muestras iguales fueron 44\n",
      "de 45\n"
     ]
    }
   ],
   "source": [
    "# Escalamiento\n",
    "def escalamiento(X):\n",
    "    X = X - X.min(axis=0)\n",
    "    X = X/(X.max(axis=0) - X.min(axis=0))\n",
    "    \n",
    "    return X\n",
    "\n",
    "x_train_norm = escalamiento(X_train)\n",
    "x_test_norm = escalamiento(X_test)\n",
    "\n",
    "clasificador = LogisticRegression(C=1000.0, random_state=0)\n",
    "clasificador.fit(x_train_norm, y_train)\n",
    "\n",
    "y_pred = clasificador.predict(x_test_norm)\n",
    "\n",
    "print('numero de muestras iguales fueron %d'%(y_test == y_pred).sum())\n",
    "print('de %d'% len(y_pred) )"
   ]
  },
  {
   "cell_type": "code",
   "execution_count": 97,
   "metadata": {},
   "outputs": [
    {
     "name": "stdout",
     "output_type": "stream",
     "text": [
      "numero de muestras iguales fueron 28\n",
      "de 45\n"
     ]
    }
   ],
   "source": [
    "# normalizacion l1\n",
    "from numpy import linalg as LA\n",
    "def normalizacion_uno(X):\n",
    "    norm = LA.norm(X, ord=1, axis=1)\n",
    "    \n",
    "    filas = np.shape(X)[0]\n",
    "    columnas = np.shape(X)[1]\n",
    "    \n",
    "    for i in range(filas) :\n",
    "        X[i][:] =  X[i][:] / norm[i]\n",
    "    return X\n",
    "\n",
    "x_train_norm = normalizacion_uno(X_train)\n",
    "x_test_norm = normalizacion_uno(X_test)\n",
    "\n",
    "clasificador = LogisticRegression(C=10000000.0, random_state=0)\n",
    "clasificador.fit(x_train_norm, y_train)\n",
    "\n",
    "y_pred = clasificador.predict(x_test_norm)\n",
    "\n",
    "print('numero de muestras iguales fueron %d'%(y_test == y_pred).sum())\n",
    "print('de %d'% len(y_pred) )"
   ]
  },
  {
   "cell_type": "code",
   "execution_count": 25,
   "metadata": {
    "collapsed": true
   },
   "outputs": [],
   "source": [
    "def graficar_clasificador(clasificador, X, y):\n",
    "    # definimos valores máximos y mínimos de la malla que vamos a graficar\n",
    "    min_x, max_x = X[:,0].min() - 1.0 , X[:,0].max() + 1.0\n",
    "    min_y, max_y = X[:,1].min() - 1.0 , X[:,1].max() + 1.0\n",
    "    \n",
    "    paso = 0.01\n",
    "    \n",
    "    x_vals, y_vals = np.mgrid[min_x:max_x:paso, min_y:max_y:paso]\n",
    "    \n",
    "    # corremos el clasificador sobre la malla\n",
    "    resultados = clasificador.predict(np.c_[x_vals.ravel(), y_vals.ravel()])\n",
    "    \n",
    "    resultados = resultados.reshape(x_vals.shape)\n",
    "    \n",
    "    \n",
    "    plt.figure()\n",
    "    plt.pcolormesh(x_vals, y_vals, resultados, cmap=plt.cm.Pastel1)\n",
    "    plt.scatter(X[:,0], X[:,1],c=y, s=75, edgecolors='black', linewidth=1, cmap=plt.cm.Set2 )\n",
    "    plt.xlim(x_vals.min(), x_vals.max())\n",
    "    plt.ylim(y_vals.min(), y_vals.max())\n",
    "    plt.show()\n",
    "    "
   ]
  },
  {
   "cell_type": "code",
   "execution_count": 26,
   "metadata": {},
   "outputs": [
    {
     "data": {
      "image/png": "[encoded data removed]",
      "text/plain": [
       "<matplotlib.figure.Figure at 0x2712e23c5c0>"
      ]
     },
     "metadata": {},
     "output_type": "display_data"
    }
   ],
   "source": [
    "graficar_clasificador(clasificador, x_test_norm, y_test)"
   ]
  },
  {
   "cell_type": "code",
   "execution_count": null,
   "metadata": {
    "collapsed": true
   },
   "outputs": [],
   "source": []
  }
 ],
 "metadata": {
  "celltoolbar": "Raw Cell Format",
  "kernelspec": {
   "display_name": "Python 3",
   "language": "python",
   "name": "python3"
  },
  "language_info": {
   "codemirror_mode": {
    "name": "ipython",
    "version": 3
   },
   "file_extension": ".py",
   "mimetype": "text/x-python",
   "name": "python",
   "nbconvert_exporter": "python",
   "pygments_lexer": "ipython3",
   "version": "3.6.1"
  }
 },
 "nbformat": 4,
 "nbformat_minor": 2
}
