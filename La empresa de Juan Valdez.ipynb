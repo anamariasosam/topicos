{
 "cells": [
  {
   "cell_type": "markdown",
   "metadata": {},
   "source": [
    "# Juan Valdez ♥\n",
    "\n",
    "El café tiene: \n",
    "- Aroma\n",
    "- Cuerpo\n",
    "- Acidez\n",
    "- Sabor\n",
    "- Composición\n",
    "\n",
    "Se tienen 100 muestras de café que serán analizadas por 4 expertos"
   ]
  },
  {
   "cell_type": "code",
   "execution_count": 87,
   "metadata": {
    "collapsed": true
   },
   "outputs": [],
   "source": [
    "# importación de librerías\n",
    "import numpy as np\n",
    "\n",
    "from sklearn import preprocessing\n",
    "\n",
    "# Selector de características\n",
    "from sklearn.datasets import samples_generator # Generamos un toyset\n",
    "from sklearn.feature_selection import SelectKBest, f_regression \n",
    "from sklearn.pipeline import Pipeline\n",
    "from sklearn import neighbors\n"
   ]
  },
  {
   "cell_type": "code",
   "execution_count": 89,
   "metadata": {},
   "outputs": [],
   "source": [
    "# importación de los datos\n",
    "expertos_ruta = 'expertos.txt'\n",
    "X_train = np.loadtxt(expertos_ruta, delimiter=',')\n",
    "\n",
    "test_ruta = 'test.txt'\n",
    "X_test = np.loadtxt(test_ruta, delimiter=',')\n",
    "\n",
    "puntuaciones_ruta = 'puntuaciones.txt'\n",
    "y = np.loadtxt(puntuaciones_ruta, delimiter=',')"
   ]
  },
  {
   "cell_type": "markdown",
   "metadata": {
    "collapsed": true
   },
   "source": [
    "## Escalamiento:\n",
    "Nos permite medir con la misma regla todas las características:\n",
    "\n",
    "$$\\frac{\\mathbf{X}-min(\\mathbf{X})}{max(\\mathbf{X}) - min(\\mathbf{X})},$$"
   ]
  },
  {
   "cell_type": "code",
   "execution_count": 91,
   "metadata": {},
   "outputs": [],
   "source": [
    "escalador = preprocessing.MinMaxScaler(feature_range=(0, 1))\n",
    "   "
   ]
  },
  {
   "cell_type": "markdown",
   "metadata": {},
   "source": [
    "## Selector de características"
   ]
  },
  {
   "cell_type": "code",
   "execution_count": 95,
   "metadata": {},
   "outputs": [],
   "source": [
    "selector = SelectKBest(f_regression, k=4)"
   ]
  },
  {
   "cell_type": "markdown",
   "metadata": {},
   "source": [
    "## Algoritmo para clasificador k-NN"
   ]
  },
  {
   "cell_type": "code",
   "execution_count": 118,
   "metadata": {},
   "outputs": [
    {
     "ename": "NameError",
     "evalue": "name 'NearestNeighbors' is not defined",
     "output_type": "error",
     "traceback": [
      "\u001b[1;31m---------------------------------------------------------------------------\u001b[0m",
      "\u001b[1;31mNameError\u001b[0m                                 Traceback (most recent call last)",
      "\u001b[1;32m<ipython-input-118-47be4313ca8a>\u001b[0m in \u001b[0;36m<module>\u001b[1;34m()\u001b[0m\n\u001b[0;32m      2\u001b[0m \u001b[0mclasificador\u001b[0m\u001b[1;33m.\u001b[0m\u001b[0mfit\u001b[0m\u001b[1;33m(\u001b[0m\u001b[0mX_train\u001b[0m\u001b[1;33m,\u001b[0m \u001b[0my\u001b[0m\u001b[1;33m[\u001b[0m\u001b[1;33m:\u001b[0m\u001b[1;33m,\u001b[0m\u001b[1;36m2\u001b[0m\u001b[1;33m]\u001b[0m\u001b[1;33m)\u001b[0m\u001b[1;33m\u001b[0m\u001b[0m\n\u001b[0;32m      3\u001b[0m \u001b[1;33m\u001b[0m\u001b[0m\n\u001b[1;32m----> 4\u001b[1;33m \u001b[0mmodelo_nn\u001b[0m \u001b[1;33m=\u001b[0m \u001b[0mNearestNeighbors\u001b[0m\u001b[1;33m(\u001b[0m\u001b[0mn_neighbors\u001b[0m\u001b[1;33m=\u001b[0m \u001b[0mk\u001b[0m\u001b[1;33m,\u001b[0m \u001b[0malgorithm\u001b[0m\u001b[1;33m=\u001b[0m\u001b[1;34m'ball_tree'\u001b[0m\u001b[1;33m)\u001b[0m\u001b[1;33m.\u001b[0m\u001b[0mfit\u001b[0m\u001b[1;33m(\u001b[0m\u001b[0mX_train\u001b[0m\u001b[1;33m)\u001b[0m\u001b[1;33m\u001b[0m\u001b[0m\n\u001b[0m\u001b[0;32m      5\u001b[0m \u001b[0mdistancias\u001b[0m\u001b[1;33m,\u001b[0m \u001b[0mindices\u001b[0m \u001b[1;33m=\u001b[0m \u001b[0mmodelo_nn\u001b[0m\u001b[1;33m.\u001b[0m\u001b[0mkneighbors\u001b[0m\u001b[1;33m(\u001b[0m\u001b[0mX_test\u001b[0m\u001b[1;33m)\u001b[0m\u001b[1;33m\u001b[0m\u001b[0m\n\u001b[0;32m      6\u001b[0m \u001b[1;33m\u001b[0m\u001b[0m\n",
      "\u001b[1;31mNameError\u001b[0m: name 'NearestNeighbors' is not defined"
     ]
    }
   ],
   "source": [
    "clasificador = neighbors.KNeighborsClassifier(6, weights = 'distance')\n",
    "clasificador.fit(X_train, y[:,2])\n",
    "\n",
    "modelo_nn = NearestNeighbors(n_neighbors= k, algorithm='ball_tree').fit(X_train)\n",
    "distancias, indices = modelo_nn.kneighbors(X_test)\n",
    "\n",
    "\n",
    "print('Los vecinos mas cercanos')\n",
    "\n",
    "for rank, index in enumerate(indices[0][:k], start=1):\n",
    "    print(str(rank) + '----->', X_train[index])"
   ]
  },
  {
   "cell_type": "markdown",
   "metadata": {},
   "source": [
    "## Creación de Pipeline"
   ]
  },
  {
   "cell_type": "code",
   "execution_count": 110,
   "metadata": {},
   "outputs": [],
   "source": [
    "# Creamos el pipeline\n",
    "pipeline = Pipeline([('escalamiento', escalador),('selector', selector),('clasficador',clasificador)])"
   ]
  },
  {
   "cell_type": "markdown",
   "metadata": {},
   "source": [
    "## Entrenamos el Pipeline"
   ]
  },
  {
   "cell_type": "code",
   "execution_count": 114,
   "metadata": {
    "scrolled": true
   },
   "outputs": [
    {
     "name": "stdout",
     "output_type": "stream",
     "text": [
      "[[  7.  13.  12.  11.  12.]\n",
      " [  8.  11.  12.   8.   9.]\n",
      " [ 15.  12.   7.   5.  13.]\n",
      " [  9.  26.   6.  11.   4.]\n",
      " [  7.   9.   8.  10.   5.]\n",
      " [ 10.   8.   9.  13.  14.]\n",
      " [  6.   6.  21.  13.  15.]\n",
      " [ 12.  12.  16.   8.   9.]\n",
      " [  8.   7.   4.   9.  10.]\n",
      " [ 10.   8.   4.  14.  11.]\n",
      " [ 11.  10.   7.  13.  12.]\n",
      " [  5.   6.  19.   6.  14.]\n",
      " [ 11.  10.   6.  11.   9.]\n",
      " [  9.  11.  14.   8.  10.]\n",
      " [  7.   6.  20.   8.  11.]\n",
      " [  6.   6.   5.   9.   9.]\n",
      " [  4.   6.  16.  11.  11.]\n",
      " [ 12.  16.  11.   8.  11.]\n",
      " [ 13.   8.  16.   9.  10.]\n",
      " [ 14.  15.  13.  15.   8.]]\n",
      "[ 1.  1.  1.  1.  1.  1.  1.  0.  1.  1.  1.  1.  1.  1.  1.  1.  1.  1.\n",
      "  0.  1.]\n"
     ]
    }
   ],
   "source": [
    "pipeline.fit(X_train,y[:,2])\n",
    "\n"
   ]
  }
 ],
 "metadata": {
  "kernelspec": {
   "display_name": "Python 3",
   "language": "python",
   "name": "python3"
  },
  "language_info": {
   "codemirror_mode": {
    "name": "ipython",
    "version": 3
   },
   "file_extension": ".py",
   "mimetype": "text/x-python",
   "name": "python",
   "nbconvert_exporter": "python",
   "pygments_lexer": "ipython3",
   "version": "3.6.1"
  }
 },
 "nbformat": 4,
 "nbformat_minor": 2
}
