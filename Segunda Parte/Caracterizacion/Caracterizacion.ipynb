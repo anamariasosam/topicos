{
 "cells": [
  {
   "cell_type": "code",
   "execution_count": 108,
   "metadata": {},
   "outputs": [],
   "source": [
    "import numpy as np\n",
    "from scipy.stats import kurtosis, mode, skew\n",
    "from sklearn.cross_validation import train_test_split\n",
    "from sklearn.feature_selection import SelectKBest, f_regression \n",
    "from sklearn.linear_model import LogisticRegression"
   ]
  },
  {
   "cell_type": "code",
   "execution_count": 109,
   "metadata": {
    "collapsed": true
   },
   "outputs": [],
   "source": [
    "def data_to_array(archivo):\n",
    "    raw_data = []\n",
    "    with open(archivo) as file:\n",
    "        lines = file.readlines()\n",
    "        for line in lines:\n",
    "            raw_data.append(np.array(line.strip().split()).astype(float))\n",
    "    return raw_data"
   ]
  },
  {
   "cell_type": "code",
   "execution_count": 110,
   "metadata": {
    "collapsed": true
   },
   "outputs": [],
   "source": [
    "def caracterizacion(raw_data):\n",
    "    caracteristicas = []\n",
    "    for data in raw_data:\n",
    "        caracteristicas.append(\n",
    "            [np.mean(data),\n",
    "             np.median(data),\n",
    "             kurtosis(data),\n",
    "             np.std(data),\n",
    "             np.var(data),\n",
    "             skew(data),\n",
    "             mode(data)[0][0]\n",
    "            ])\n",
    "    data = np.array(caracteristicas)\n",
    "    return data"
   ]
  },
  {
   "cell_type": "code",
   "execution_count": 111,
   "metadata": {},
   "outputs": [],
   "source": [
    "raw_data = data_to_array(\"synthetic_control.data\")\n",
    "X = caracterizacion(raw_data)"
   ]
  },
  {
   "cell_type": "markdown",
   "metadata": {},
   "source": [
    "# Creación de la etiqueta"
   ]
  },
  {
   "cell_type": "code",
   "execution_count": 112,
   "metadata": {
    "collapsed": true
   },
   "outputs": [],
   "source": [
    "y = []\n",
    "for i in range(6):\n",
    "    y += [i+1] * 100"
   ]
  },
  {
   "cell_type": "markdown",
   "metadata": {},
   "source": [
    "# Preprocesamiento"
   ]
  },
  {
   "cell_type": "code",
   "execution_count": 113,
   "metadata": {},
   "outputs": [],
   "source": [
    "def remocion_train(X):\n",
    "    X = X - X.mean(axis=0)\n",
    "    X = X/X.std(axis=0)\n",
    "    \n",
    "    return X\n",
    "\n",
    "def remocion_test(X_test):\n",
    "    media = X_train.mean(axis=0)\n",
    "    desviacion = X_train.std(axis=0)\n",
    "    \n",
    "    X_test = X_test - media\n",
    "    X_test = X_test/desviacion\n",
    "    \n",
    "    return X_test\n",
    "\n",
    "def preprocesamiento(X_train, X_test):\n",
    "    x_train_norm = remocion_train(X_train)\n",
    "    x_test_norm = remocion_test(X_test)\n",
    "    \n",
    "    return x_train_norm, x_test_norm"
   ]
  },
  {
   "cell_type": "markdown",
   "metadata": {},
   "source": [
    "# Realizar las pruebas 10 veces"
   ]
  },
  {
   "cell_type": "code",
   "execution_count": 235,
   "metadata": {},
   "outputs": [
    {
     "name": "stdout",
     "output_type": "stream",
     "text": [
      "El resultado del acierto de clasificación 92.166667 +/- 3.663719\n"
     ]
    }
   ],
   "source": [
    "data = []\n",
    "for i in range(10):\n",
    "    X_train, X_test, y_train, y_test = train_test_split(X, y, test_size=0.3)\n",
    "    \n",
    "    x_train_norm, x_test_norm = preprocesamiento(X_train, X_test)\n",
    "    \n",
    "    selector = SelectKBest(f_regression, k=4)\n",
    "    selector.fit(x_train_norm, y_train)\n",
    "\n",
    "    x_predict_train = selector.transform(X_train)\n",
    "    x_predict_test = selector.transform(X_test)\n",
    "\n",
    "    clasificador = LogisticRegression(C=100.0)\n",
    "    clasificador.fit(x_predict_train, y_train)\n",
    "\n",
    "    y_pred = clasificador.predict(x_predict_test)\n",
    "\n",
    "    data.append(100*(y_test == y_pred).sum()/len(y_test)) \n",
    "    \n",
    "print('El resultado del acierto de clasificación %f +/- %f' %(np.mean(data),np.std(data)))"
   ]
  }
 ],
 "metadata": {
  "kernelspec": {
   "display_name": "Python 3",
   "language": "python",
   "name": "python3"
  },
  "language_info": {
   "codemirror_mode": {
    "name": "ipython",
    "version": 3
   },
   "file_extension": ".py",
   "mimetype": "text/x-python",
   "name": "python",
   "nbconvert_exporter": "python",
   "pygments_lexer": "ipython3",
   "version": "3.6.1"
  }
 },
 "nbformat": 4,
 "nbformat_minor": 2
}
