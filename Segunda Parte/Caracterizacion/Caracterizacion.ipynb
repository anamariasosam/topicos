{
 "cells": [
  {
   "cell_type": "code",
   "execution_count": 21,
   "metadata": {},
   "outputs": [],
   "source": [
    "import numpy as np\n",
    "from scipy.stats import kurtosis, mode, skew"
   ]
  },
  {
   "cell_type": "code",
   "execution_count": 22,
   "metadata": {
    "collapsed": true
   },
   "outputs": [],
   "source": [
    "def data_to_array(archivo):\n",
    "    raw_data = []\n",
    "    with open(archivo) as file:\n",
    "        lines = file.readlines()\n",
    "        for line in lines:\n",
    "            raw_data.append(np.array(line.strip().split()).astype(float))\n",
    "    return raw_data"
   ]
  },
  {
   "cell_type": "code",
   "execution_count": 18,
   "metadata": {
    "collapsed": true
   },
   "outputs": [],
   "source": [
    "def caracterizacion(raw_data):\n",
    "    caracteristicas = []\n",
    "    for data in raw_data:\n",
    "        caracteristicas.append(\n",
    "            [np.mean(data),\n",
    "             np.median(data),\n",
    "             kurtosis(data),\n",
    "             np.std(data),\n",
    "             np.var(data),\n",
    "             skew(data),\n",
    "             mode(data)[0][0]\n",
    "            ])\n",
    "    data = np.array(caracteristicas)\n",
    "    return data"
   ]
  },
  {
   "cell_type": "code",
   "execution_count": 28,
   "metadata": {},
   "outputs": [
    {
     "name": "stdout",
     "output_type": "stream",
     "text": [
      "[  3.09182750e+01   3.08956500e+01  -1.17198040e+00   9.94367420e+00\n",
      "   9.88766566e+01   1.79239057e-03   1.14926000e+01]\n"
     ]
    }
   ],
   "source": [
    "raw_data = data_to_array(\"synthetic_control.data\")\n",
    "data = caracterizacion(raw_data)\n",
    "\n",
    "print(data[111])"
   ]
  }
 ],
 "metadata": {
  "kernelspec": {
   "display_name": "Python 3",
   "language": "python",
   "name": "python3"
  },
  "language_info": {
   "codemirror_mode": {
    "name": "ipython",
    "version": 3
   },
   "file_extension": ".py",
   "mimetype": "text/x-python",
   "name": "python",
   "nbconvert_exporter": "python",
   "pygments_lexer": "ipython3",
   "version": "3.6.1"
  }
 },
 "nbformat": 4,
 "nbformat_minor": 2
}
