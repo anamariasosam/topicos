{
 "cells": [
  {
   "cell_type": "markdown",
   "metadata": {},
   "source": [
    "# Sistema de recomendación\n",
    "\n",
    "\n",
    "## 1. Pipeline. Tubería o fila\n",
    "\n",
    "Puedo modificar los atributos de cada uno de los modulos de un solo comando\n",
    "\n",
    "Mod 1: Selector de características\n",
    "    k-características más relevantes\n",
    "    \n",
    "Mod 2: Clasificador de bosques aleatorios\n",
    "\n",
    "\n",
    "## 2. Narest-Neighbor - Vecinos más cercanos\n",
    "\n",
    "Mirar conr especto a alguna distancia cuales son los vecinos más cercanas \n",
    "\n",
    "Divide por la mediana, en especie de arbol, se utiliza para clasificación\n",
    "\n",
    "\n",
    "## 3. K-NN \n",
    "k- Vecinos más cercanos \n"
   ]
  },
  {
   "cell_type": "markdown",
   "metadata": {},
   "source": [
    "# Construcción de un sistema de recomendación\n",
    "\n",
    "## Construcción de un pipeline (filtro)"
   ]
  },
  {
   "cell_type": "code",
   "execution_count": 3,
   "metadata": {},
   "outputs": [],
   "source": [
    "# importamos librerias\n",
    "\n",
    "from sklearn.datasets import samples_generator # Generamos un toyset\n",
    "from sklearn.feature_selection import SelectKBest, f_regression \n",
    "from sklearn.pipeline import Pipeline\n",
    "from sklearn.ensemble import ExtraTreesClassifier "
   ]
  },
  {
   "cell_type": "code",
   "execution_count": 22,
   "metadata": {},
   "outputs": [
    {
     "name": "stdout",
     "output_type": "stream",
     "text": [
      "[0 2 2 0 2 0 2 1 0 1 1 2 1 0 2 2 1 0 0 1 0 1 0 1 2 2 0 0 1 0 1 2 1 0 2 2 1\n",
      " 1 2 2 2 0 0 0 2 1 1 2 1 0 1 2 2 1 2 0 2 2 0 2 2 0 1 0 2 1 1 1 1 2 0 1 0 2\n",
      " 0 0 1 2 2 0 0 1 0 2 2 0 0 0 2 2 2 1 2 0 2 0 2 0 0 0 1 1 1 1 2 2 2 2 0 1 1\n",
      " 0 2 1 1 0 1 1 1 1 0 0 0 1 2 0 0 0 2 1 2 0 0 1 0 1 1 0 1 1 1 1 2 2 0 1 1 0\n",
      " 2 2]\n"
     ]
    }
   ],
   "source": [
    "# toyset de 150 observaciones con 25 caracteristicas, de las cuales 6 son informativas y adicionalmente 0 redundantes\n",
    "\n",
    "X,y = samples_generator.make_classification(n_samples=150, n_features=25, n_classes=3, n_informative=6, n_redundant=0, random_state= 7)\n"
   ]
  },
  {
   "cell_type": "code",
   "execution_count": 26,
   "metadata": {},
   "outputs": [
    {
     "data": {
      "text/plain": [
       "Pipeline(steps=[('selec', SelectKBest(k=7, score_func=<function f_regression at 0x00000152244E9B70>)), ('elelegido', ExtraTreesClassifier(bootstrap=False, class_weight=None, criterion='gini',\n",
       "           max_depth=4, max_features='auto', max_leaf_nodes=None,\n",
       "           min_impurity_split=1e-07, min_samples_leaf=1,\n",
       "           min_samples_split=2, min_weight_fraction_leaf=0.0,\n",
       "           n_estimators=30, n_jobs=1, oob_score=False, random_state=None,\n",
       "           verbose=0, warm_start=False))])"
      ]
     },
     "execution_count": 26,
     "metadata": {},
     "output_type": "execute_result"
    }
   ],
   "source": [
    "# Primer modulo del pipeline, selector de características\n",
    "\n",
    "selector = SelectKBest(f_regression, k=9)\n",
    "\n",
    "\n",
    "# Segundo módulo del pipeline, clasificador de bosques BEA\n",
    "clasificador = ExtraTreesClassifier(n_estimators = 60, max_depth = 4)\n",
    "\n",
    "# Creamos el pipeline\n",
    "\n",
    "pipeline = Pipeline([('selec', selector),('elelegido', clasificador)])\n",
    "\n",
    "\n",
    "# Fijamos los parametros\n",
    "\n",
    "pipeline.set_params(selec__k = 7, elelegido__n_estimators = 30)"
   ]
  },
  {
   "cell_type": "code",
   "execution_count": 27,
   "metadata": {},
   "outputs": [
    {
     "name": "stdout",
     "output_type": "stream",
     "text": [
      "[1 2 2 0 2 0 2 1 0 1 1 2 1 0 2 2 1 0 0 1 0 2 1 1 2 2 0 0 1 2 1 2 1 0 2 2 1\n",
      " 1 2 2 2 0 1 2 2 1 1 2 1 0 1 2 2 2 2 0 2 2 0 2 2 0 1 0 2 2 1 1 1 2 0 1 0 2\n",
      " 0 0 1 2 2 0 0 2 2 2 0 0 0 0 2 2 2 1 2 0 2 1 2 2 0 0 1 1 1 1 2 2 2 2 0 1 1\n",
      " 0 2 1 1 0 1 1 1 1 0 0 0 1 2 0 0 0 2 0 2 0 0 1 0 1 1 0 1 1 1 1 0 2 0 1 2 0\n",
      " 2 2]\n"
     ]
    }
   ],
   "source": [
    "# Entrenamos la tubería \n",
    "pipeline.fit(X, y)\n",
    "\n",
    "# Predicción de las salidas \n",
    "\n",
    "salida = pipeline.predict(X)"
   ]
  },
  {
   "cell_type": "code",
   "execution_count": 28,
   "metadata": {},
   "outputs": [
    {
     "name": "stdout",
     "output_type": "stream",
     "text": [
      "El score del pipeline es: 0.893333333333\n"
     ]
    }
   ],
   "source": [
    "# Evaluamos la eficiencia con el score está entre 0-1\n",
    "print('El score del pipeline es:', pipeline.score(X,y))"
   ]
  },
  {
   "cell_type": "code",
   "execution_count": 30,
   "metadata": {},
   "outputs": [
    {
     "name": "stdout",
     "output_type": "stream",
     "text": [
      "[False False False False  True False False  True  True False False False\n",
      "  True False  True False False  True False False False False  True False\n",
      " False]\n"
     ]
    }
   ],
   "source": [
    "# revisar las características del selector\n",
    "\n",
    "status = pipeline.named_steps['selec'].get_support()\n",
    "print(status)"
   ]
  },
  {
   "cell_type": "code",
   "execution_count": 33,
   "metadata": {},
   "outputs": [
    {
     "name": "stdout",
     "output_type": "stream",
     "text": [
      "[4, 7, 8, 12, 14, 17, 22]\n"
     ]
    }
   ],
   "source": [
    "caracteristicas_selec = [i for i, x in enumerate(status) if x]\n",
    "\n",
    "print(caracteristicas_selec)"
   ]
  },
  {
   "cell_type": "markdown",
   "metadata": {},
   "source": [
    "## Algoritmo Nearest-Neighbors NN"
   ]
  },
  {
   "cell_type": "code",
   "execution_count": 35,
   "metadata": {
    "collapsed": true
   },
   "outputs": [],
   "source": [
    "import numpy as np\n",
    "import matplotlib.pyplot as plt\n",
    "from sklearn.neighbors import NearestNeighbors"
   ]
  },
  {
   "cell_type": "code",
   "execution_count": 39,
   "metadata": {},
   "outputs": [
    {
     "name": "stdout",
     "output_type": "stream",
     "text": [
      "[[ 2.1  1.3]\n",
      " [ 1.3  3.2]\n",
      " [ 2.9  2.5]\n",
      " [ 2.7  5.4]\n",
      " [ 3.8  0.9]\n",
      " [ 7.3  2.1]\n",
      " [ 4.2  6.5]\n",
      " [ 3.8  3.7]\n",
      " [ 2.5  4.1]\n",
      " [ 3.4  1.9]\n",
      " [ 5.7  3.5]\n",
      " [ 6.1  4.3]\n",
      " [ 5.1  2.2]\n",
      " [ 6.2  1.1]]\n"
     ]
    }
   ],
   "source": [
    "# Creamos un toyset de 2D, es decir que solo tiene dos caracteristica \n",
    "\n",
    "X = np.array([[2.1,1.3],[1.3,3.2], [2.9, 2.5], [2.7,5.4], [3.8, 0.9], [7.3, 2.1], [4.2, 6.5], [3.8, 3.7], [2.5, 4.1], [3.4, 1.9], [5.7, 3.5], [6.1,4.3], [5.1, 2.2], [6.2, 1.1]])\n",
    "\n",
    "\n",
    "print(X)"
   ]
  },
  {
   "cell_type": "code",
   "execution_count": 44,
   "metadata": {},
   "outputs": [
    {
     "data": {
      "image/png": "[encoded data removed]",
      "text/plain": [
       "<matplotlib.figure.Figure at 0x152259e1be0>"
      ]
     },
     "metadata": {},
     "output_type": "display_data"
    }
   ],
   "source": [
    "# definimos el numero de vecinos más cercanos\n",
    "k = 5\n",
    "\n",
    "# creamos una muestra para el test\n",
    "test = [4.3, 2.7]\n",
    "\n",
    "\n",
    "# CARPINTERIA\n",
    "\n",
    "# Graficar los datos de entrada\n",
    "\n",
    "plt.figure()\n",
    "plt.title('Datos de entrada')\n",
    "plt.scatter(X[:,0], X[:,1], marker = '*', s = 75, color='pink')\n",
    "plt.show()"
   ]
  },
  {
   "cell_type": "code",
   "execution_count": 46,
   "metadata": {},
   "outputs": [
    {
     "name": "stdout",
     "output_type": "stream",
     "text": [
      "Los vecinos mas cercanos\n",
      "1-----> [ 5.1  2.2]\n",
      "2-----> [ 3.8  3.7]\n",
      "3-----> [ 3.4  1.9]\n",
      "4-----> [ 2.9  2.5]\n",
      "5-----> [ 5.7  3.5]\n"
     ]
    },
    {
     "name": "stderr",
     "output_type": "stream",
     "text": [
      "C:\\Users\\llondono2\\Anaconda3\\lib\\site-packages\\sklearn\\utils\\validation.py:395: DeprecationWarning: Passing 1d arrays as data is deprecated in 0.17 and will raise ValueError in 0.19. Reshape your data either using X.reshape(-1, 1) if your data has a single feature or X.reshape(1, -1) if it contains a single sample.\n",
      "  DeprecationWarning)\n"
     ]
    }
   ],
   "source": [
    "modelo_nn = NearestNeighbors(n_neighbors= k, algorithm='ball_tree').fit(X)\n",
    "distancias, indices = modelo_nn.kneighbors(test)\n",
    "\n",
    "\n",
    "print('Los vecinos mas cercanos')\n",
    "\n",
    "for rank, index in enumerate(indices[0][:k], start=1):\n",
    "    print(str(rank) + '----->', X[index])"
   ]
  },
  {
   "cell_type": "code",
   "execution_count": 56,
   "metadata": {},
   "outputs": [
    {
     "data": {
      "image/png": "[encoded data removed]",
      "text/plain": [
       "<matplotlib.figure.Figure at 0x15226edec18>"
      ]
     },
     "metadata": {},
     "output_type": "display_data"
    }
   ],
   "source": [
    "plt.figure()\n",
    "plt.title('Vecinos más cercanos')\n",
    "plt.scatter(X[:,0], X[:,1], marker = '*', s=75, color = 'pink')\n",
    "\n",
    "plt.scatter(X[indices][0][:][:,0], X[indices][0][:][:,1], marker = '*', s=250, color='blue', facecolors= 'none')\n",
    "\n",
    "plt.scatter(test[0], test[1], marker='+', s=75, color='k')\n",
    "\n",
    "plt.show()"
   ]
  },
  {
   "cell_type": "markdown",
   "metadata": {},
   "source": [
    "## Algoritmo para clasificador k-NN"
   ]
  },
  {
   "cell_type": "code",
   "execution_count": 61,
   "metadata": {
    "collapsed": true
   },
   "outputs": [],
   "source": [
    "# cargamos librerías\n",
    "import numpy as np\n",
    "import matplotlib.pyplot\n",
    "import matplotlib.cm as cm\n",
    "from sklearn import neighbors, datasets"
   ]
  },
  {
   "cell_type": "code",
   "execution_count": 63,
   "metadata": {},
   "outputs": [
    {
     "name": "stdout",
     "output_type": "stream",
     "text": [
      "[0 1 2 3 0 1 2 3 0 1 2 3 0 1 2 3 0 1 2 3 0 1 2 3 0 1 2 3 0 1 2 3 0 1 2 3 0\n",
      " 1 2 3 0 1 2 3 0 1 2 3 0 1 2 3 0 1 2 3 0 1 2 3 0 1 2 3 0 1 2 3 0 1 2 3 0 1\n",
      " 2 3 0 1 2 3 0 1 2 3 0 1 2 3 0 1 2 3 0 1 2 3 0 1 2 3 0 1 2 3 0 1 2 3 0 1 2\n",
      " 3 0 1 2 3 0 1 2 3 0 1 2 3 0 1 2 3 0 1 2 3 0 1 2 3 0 1 2 3 0 1 2 3 0 1 2 3\n",
      " 0 1 2 3 0 1 2 3 0 1 2 3 0 1 2 3 0 1 2 3 0 1 2 3 0 1 2 3 0 1 2 3 0 1 2 3 0\n",
      " 1 2 3 0 1 2 3 0 1 2 3 0 1 2 3 0 1 2 3 0 1 2 3 0 1 2 3 0 1 2 3 0 1 2 3 0 1\n",
      " 2 3 0 1 2 3 0 1 2 3 0 1 2 3 0 1 2 3 0 1 2 3 0 1 2 3 0 1 2 3 0 1 2 3 0 1 2\n",
      " 3 0 1 2 3 0 1 2 3 0 1 2 3 0 1 2 3 0 1 2 3 0 1 2 3 0 1 2 3 0 1 2 3 0 1 2 3\n",
      " 0 1 2 3]\n"
     ]
    }
   ],
   "source": [
    "archivo = 'data.txt'\n",
    "\n",
    "data = np.genfromtxt(archivo, delimiter=',', skip_header = True)\n",
    "\n",
    "X,y = data[:,:-1], data[:, -1].astype(np.int)\n",
    "\n",
    "print(y)"
   ]
  },
  {
   "cell_type": "code",
   "execution_count": 69,
   "metadata": {},
   "outputs": [
    {
     "data": {
      "image/png": "[encoded data removed]",
      "text/plain": [
       "<matplotlib.figure.Figure at 0x152277b0048>"
      ]
     },
     "metadata": {},
     "output_type": "display_data"
    }
   ],
   "source": [
    "plt.figure()\n",
    "plt.title('Datos de entrada')\n",
    "marcadores = 'v^os'\n",
    "mapper = [marcadores[i] for i in y] # repite la secuencia para llegar al tamaño \n",
    "\n",
    "for i in range(X.shape[0]):\n",
    "    plt.scatter(X[i,0],X[i,1], marker=mapper[i], s = 75, edgecolors='blue', facecolors='pink')\n",
    "    \n",
    "plt.show()"
   ]
  }
 ],
 "metadata": {
  "kernelspec": {
   "display_name": "Python 3",
   "language": "python",
   "name": "python3"
  },
  "language_info": {
   "codemirror_mode": {
    "name": "ipython",
    "version": 3
   },
   "file_extension": ".py",
   "mimetype": "text/x-python",
   "name": "python",
   "nbconvert_exporter": "python",
   "pygments_lexer": "ipython3",
   "version": "3.6.1"
  }
 },
 "nbformat": 4,
 "nbformat_minor": 2
}
