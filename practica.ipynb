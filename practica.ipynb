{
 "cells": [
  {
   "cell_type": "code",
   "execution_count": 59,
   "metadata": {},
   "outputs": [
    {
     "name": "stdout",
     "output_type": "stream",
     "text": [
      "Muestras iguales 60/60 - Porcentaje: 100 \n",
      " muestras iguales 60/60 - Porcentaje: 100 \n"
     ]
    }
   ],
   "source": [
    "# importar los datos desde texto plano separado por comas\n",
    "from sklearn.linear_model import LogisticRegression\n",
    "from sklearn.cross_validation import train_test_split\n",
    "import numpy as np\n",
    "\n",
    "from numpy import linalg as LA\n",
    "\n",
    "# Datos de archivo\n",
    "archivo_entrada = 'Data.txt' \n",
    "datos = np.loadtxt(archivo_entrada, delimiter=',') \n",
    "\n",
    "\n",
    "index0 = datos[:,-1] == 0\n",
    "index1 = datos[:,-1] == 1\n",
    "index2 = datos[:,-1] == 2\n",
    "index3 = datos[:,-1] == 3\n",
    "\n",
    "datos0 = datos[index0,:]\n",
    "datos1 = datos[index1,:]\n",
    "datos2 = datos[index2,:]\n",
    "datos3 = datos[index3,:]\n",
    "\n",
    "\n",
    "datos0_1 = np.concatenate((datos0,datos1),axis=0)\n",
    "datos0_2 = np.concatenate((datos0 , datos2),axis=0)\n",
    "datos0_3 = np.concatenate((datos0 , datos3),axis=0)\n",
    "datos1_2 = np.concatenate((datos1 , datos2),axis=0)\n",
    "datos1_3 = np.concatenate((datos1 , datos3),axis=0)\n",
    "datos2_3 = np.concatenate((datos2 , datos3),axis=0)\n",
    "\n",
    "\n",
    "X,y = datos0_1[:, :-1], datos0_1[:, -1]\n",
    "\n",
    "\n",
    "# Separar los datos de entranamiento y los de test\n",
    "X_train, X_test, y_train, y_test = train_test_split(X, y, test_size=0.3, random_state=0)\n",
    "\n",
    "\n",
    "# Tecnica de remoción es la mejor!!!\n",
    "def remocion_train(X) :\n",
    "    X = X - X.mean(axis=0)\n",
    "    X = X/X.std(axis=0)\n",
    "\n",
    "    return X\n",
    "\n",
    "def remocion_test(X_test) :\n",
    "    media = X_train.mean(axis=0)\n",
    "    desviacion = X_train.std(axis=0)\n",
    "\n",
    "    X_test = X_test - media\n",
    "    X_test = X_test/desviacion\n",
    "\n",
    "    return X_test\n",
    "\n",
    "x_train_norm = remocion_train(X_train)\n",
    "x_test_norm = remocion_test(X_test)\n",
    "\n",
    "clasificador = LogisticRegression(C=1.0, random_state=0)\n",
    "clasificador.fit(x_train_norm, y_train)\n",
    "\n",
    "y_predict = clasificador.predict(x_test_norm)\n",
    "iguales = (y_test == y_predict).sum()\n",
    "porcentaje = (iguales/60)*100\n",
    "\n",
    "print('Muestras iguales %d/%d - Porcentaje: %d ' %( iguales, len(y_predict), porcentaje))\n",
    "\n",
    "resultados_clasficador(x_train_norm, x_test_norm)"
   ]
  }
 ],
 "metadata": {
  "kernelspec": {
   "display_name": "Python 3",
   "language": "python",
   "name": "python3"
  },
  "language_info": {
   "codemirror_mode": {
    "name": "ipython",
    "version": 3
   },
   "file_extension": ".py",
   "mimetype": "text/x-python",
   "name": "python",
   "nbconvert_exporter": "python",
   "pygments_lexer": "ipython3",
   "version": "3.6.1"
  }
 },
 "nbformat": 4,
 "nbformat_minor": 2
}
