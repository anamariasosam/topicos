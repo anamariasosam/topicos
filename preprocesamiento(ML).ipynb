{
 "cells": [
  {
   "cell_type": "markdown",
   "metadata": {},
   "source": [
    "# Aprendizaje de máquina\n",
    "Se divida en dos grandes áreas:\n",
    "1. **Aprendizaje supervisado**: Se entrena un clasificador para identificar la etiqueta de un elemento nuevo. Las entradas para este modelo son: $\\mathbf{X}$ la matriz de datos de dimension $n\\times p$, donde $n$ es el numero de observaciones y $p$ es el numero de caracteristicas, y el conjunto de etiquetas $C=[c_1, c_2, \\ldots, c_k]$, donde $k$ es el numero de clases\n",
    "2. **Aprendizaje no supervisado**: Se intenta agrupar el conjunto de datos, de tal forma que la separción entre los grupos sea la más conveniente. En este caso la entrada va a estar dado solo por la matriz de datos $\\mathbf{X}$, definida por\n",
    "\n",
    "\n",
    "$$\\mathbf{X} = \\left[\\begin{array}{cccc}\n",
    "x_{11} & x_{12} & \\ldots & x_{1p}\\\\\n",
    "x_{21} & x_{22} & \\ldots & x_{2p}\\\\ \n",
    "\\vdots& &\\ldots &\\vdots \\\\\n",
    "x_{n1} & x_{n2} & \\ldots & x_{np}\\\\ \n",
    "\\end{array}\\right]$$\n",
    "\n",
    "De forma generla, un modelo de ML tiene las siguientes etapas:\n",
    "\n",
    "1. *Adquisición de datos*\n",
    "2. *Acondicionamiento de los datos, tambien llamado preprocesamientos (filtrado y remoción de artefactos)*\n",
    "3. *Caracterización*\n",
    "4. ***Preprocesamiento de las caracteristicas***\n",
    "5. *Reducción de dimensión*\n",
    "6. ***Aplicación del modelo ML***\n",
    "7. ***Analisis de resultado***\n",
    "\n",
    "## Aprendizaje Supervisado\n",
    "Con el fin de aplicar un modelo supervisado para la clasificación de datos, es necesario iniciar con la carga o adquisición de los datos,en nuestro caso será una matriz  $\\mathbf{X}$  artificial:\n",
    "\n",
    "$$\\mathbf{X} = \\left[\\begin{array}{ccc}\n",
    "5.1&-2.0&3.3\\\\\n",
    "-1.2&7.8&-6.1 \\\\\n",
    "3.9&0.4&2.1\\\\\n",
    "7.3&-9.9&-4.5 \\\\\n",
    "\\end{array}\\right]$$\n"
   ]
  },
  {
   "cell_type": "code",
   "execution_count": 2,
   "metadata": {},
   "outputs": [
    {
     "name": "stdout",
     "output_type": "stream",
     "text": [
      "[[ 5.1 -2.9  3.3]\n",
      " [-1.2  7.8 -6.1]\n",
      " [ 3.9  0.4  2.1]\n",
      " [ 7.3 -9.9 -4.5]]\n"
     ]
    }
   ],
   "source": [
    "import numpy as np\n",
    "from numpy import linalg as LA\n",
    "\n",
    "X = np.array([[5.1,-2.9,3.3],[-1.2,7.8,-6.1], [3.9,0.4,2.1],[7.3,-9.9,-4.5]])\n",
    "\n",
    "print(X)"
   ]
  },
  {
   "cell_type": "markdown",
   "metadata": {},
   "source": [
    "## Preprocesamiento de la matriz de datos\n",
    "Dar uniformidad a las características con el fin de no sesgar el clasificador. Hay diferentes tipos de preprocesamiento entre los que se encuentran\n",
    "\n",
    "1. Binarización \n",
    "2. Remoción de media\n",
    "3. Escalamiento\n",
    "4. Normalización\n",
    "\n",
    "### 1. Binarización \n",
    "Convertir las caracteristicas en variables booleanas. Se debe fijar un umbral $\\gamma$ para la binarización de los datos"
   ]
  },
  {
   "cell_type": "code",
   "execution_count": 3,
   "metadata": {
    "collapsed": true
   },
   "outputs": [],
   "source": [
    "def binarizacion(X, gamma) :\n",
    "    filas = np.shape(X)[0]\n",
    "    columnas = np.shape(X)[1]\n",
    "    \n",
    "    for i in range(filas) :\n",
    "        for j in range(columnas) :\n",
    "            X[i][j] = 1 if X[i][j] >= gamma else 0\n",
    "    return X"
   ]
  },
  {
   "cell_type": "code",
   "execution_count": 4,
   "metadata": {},
   "outputs": [
    {
     "name": "stdout",
     "output_type": "stream",
     "text": [
      "Ingrese el valor de gamma\n"
     ]
    },
    {
     "ename": "ValueError",
     "evalue": "could not convert string to float: ",
     "output_type": "error",
     "traceback": [
      "\u001b[1;31m---------------------------------------------------------------------------\u001b[0m",
      "\u001b[1;31mValueError\u001b[0m                                Traceback (most recent call last)",
      "\u001b[1;32m<ipython-input-4-c5efe7a10212>\u001b[0m in \u001b[0;36m<module>\u001b[1;34m()\u001b[0m\n\u001b[1;32m----> 1\u001b[1;33m \u001b[0mgamma\u001b[0m \u001b[1;33m=\u001b[0m \u001b[0mfloat\u001b[0m\u001b[1;33m(\u001b[0m\u001b[0minput\u001b[0m\u001b[1;33m(\u001b[0m\u001b[1;34m'Ingrese el valor de gamma'\u001b[0m\u001b[1;33m)\u001b[0m\u001b[1;33m)\u001b[0m\u001b[1;33m\u001b[0m\u001b[0m\n\u001b[0m\u001b[0;32m      2\u001b[0m \u001b[0mdatos_binarizados\u001b[0m \u001b[1;33m=\u001b[0m \u001b[0mbinarizacion\u001b[0m\u001b[1;33m(\u001b[0m\u001b[0mX\u001b[0m\u001b[1;33m,\u001b[0m\u001b[0mgamma\u001b[0m\u001b[1;33m)\u001b[0m\u001b[1;33m\u001b[0m\u001b[0m\n\u001b[0;32m      3\u001b[0m \u001b[1;33m\u001b[0m\u001b[0m\n\u001b[0;32m      4\u001b[0m \u001b[0mprint\u001b[0m\u001b[1;33m(\u001b[0m\u001b[0mdatos_binarizados\u001b[0m\u001b[1;33m)\u001b[0m\u001b[1;33m\u001b[0m\u001b[0m\n",
      "\u001b[1;31mValueError\u001b[0m: could not convert string to float: "
     ]
    }
   ],
   "source": [
    "gamma = float(input('Ingrese el valor de gamma'))\n",
    "datos_binarizados = binarizacion(X,gamma)\n",
    "\n",
    "print(datos_binarizados)"
   ]
  },
  {
   "cell_type": "markdown",
   "metadata": {},
   "source": [
    "### 2. Remoción de la media\n",
    "Eliminar la tendencia de los datos. La operación que se realiza sobre la matriz de datos es la siguiente: \n",
    "\n",
    "$$\\frac{\\mathbf{X}-\\mathbf{\\hat{X}}}{\\sigma_{\\mathbf{X}}},$$\n",
    "\n",
    "donde $\\mathbf{\\hat{X}}$ es la media y ${\\sigma_{\\mathbf{X}}}$ es la desviación "
   ]
  },
  {
   "cell_type": "code",
   "execution_count": null,
   "metadata": {
    "collapsed": true
   },
   "outputs": [],
   "source": [
    "def remocion(X):\n",
    "    X = X - X.mean(axis=0)\n",
    "    X = X/X.std(axis=0)\n",
    "    \n",
    "    return X"
   ]
  },
  {
   "cell_type": "code",
   "execution_count": null,
   "metadata": {},
   "outputs": [],
   "source": [
    "datos_centralizados = remocion(X)\n",
    "media = datos_centralizados.mean(axis=0)\n",
    "print('La media de las caracteristicas es', media)\n",
    "desviacion = datos_centralizados.std(axis=0)\n",
    "print('La desviacion de las caracteristicas es', desviacion)"
   ]
  },
  {
   "cell_type": "markdown",
   "metadata": {},
   "source": [
    "### 3. Escalamiento\n",
    "Medir con la misma *regla* todas las caracteristicas a todas las caracteristicas,para ello se realiza la siguiente operacion:\n",
    "\n",
    "\n",
    "$$\\frac{\\mathbf{X}-min(\\mathbf{X})}{max(\\mathbf{X}) - min(\\mathbf{X})},$$\n"
   ]
  },
  {
   "cell_type": "code",
   "execution_count": null,
   "metadata": {
    "collapsed": true
   },
   "outputs": [],
   "source": [
    "def escalamiento(X):\n",
    "    X = X - X.min(axis=0)\n",
    "    X = X/(X.max(axis=0) - X.min(axis=0))\n",
    "    \n",
    "    return X"
   ]
  },
  {
   "cell_type": "code",
   "execution_count": null,
   "metadata": {},
   "outputs": [],
   "source": [
    "datos_escalados = escalamiento(X)\n",
    "print(datos_escalados)"
   ]
  },
  {
   "cell_type": "markdown",
   "metadata": {},
   "source": [
    "### 4. Normalización (este es por filas)\n",
    "Con la normalización podemos alcanzar dos objetivos diferentes, aunque ambos intentan *medir* las caracteristicas de cada observación con la misma *regla*\n",
    "\n",
    "- Normalización $L_1$: Es posible eliminar la influencia de los valores atípicos (*outliers*). La idea de esta normalización es que la suma del valor absoluto sea unitaria. i.e: \n",
    "\n",
    "$$ \\sum_{j=1}^{p}||x_{ij}||=1, \\quad\\quad \\forall i=1, \\ldots, n$$\n",
    "- Normalización $L_2$: Es posible hacer más notable la influencia de los valores atípicos (*outliers*). La idea de esta normalización es que la suma del valor absoluto al cuadrado sea unitaria i.e:\n",
    "$$ \\sum_{j=1}^{p}||x_{ij}||^2=1, \\quad\\quad \\forall i=1, \\ldots, n$$"
   ]
  },
  {
   "cell_type": "code",
   "execution_count": null,
   "metadata": {},
   "outputs": [],
   "source": [
    "def normalizacion_uno(X):\n",
    "    norm = LA.norm(X, ord=1, axis=1)\n",
    "    \n",
    "    filas = np.shape(X)[0]\n",
    "    columnas = np.shape(X)[1]\n",
    "    \n",
    "    for i in range(filas) :\n",
    "        X[i][:] =  X[i][:] / norm[i]\n",
    "    return X"
   ]
  },
  {
   "cell_type": "code",
   "execution_count": null,
   "metadata": {
    "collapsed": true
   },
   "outputs": [],
   "source": [
    "def normalizacion_dos(X):\n",
    "    norm = LA.norm(X, ord=2, axis=1)\n",
    "    \n",
    "    filas = np.shape(X)[0]\n",
    "    columnas = np.shape(X)[1]\n",
    "    \n",
    "    for i in range(filas) :\n",
    "        for j in range(columnas) :\n",
    "            X[i][j] =  X[i][j] / norm[i]\n",
    "    return X"
   ]
  },
  {
   "cell_type": "code",
   "execution_count": null,
   "metadata": {},
   "outputs": [],
   "source": [
    "datos_normalizados = normalizacion_uno(X)\n",
    "print(datos_normalizados)"
   ]
  },
  {
   "cell_type": "code",
   "execution_count": null,
   "metadata": {},
   "outputs": [],
   "source": [
    "datos_normalizados = normalizacion_dos(X)\n",
    "print(datos_normalizados)"
   ]
  },
  {
   "cell_type": "markdown",
   "metadata": {},
   "source": [
    "## Codificación de Etiquetas\n",
    "\n",
    "El usuario ingresa primero las etiquetas, es decir: 'perro', 'gato', 'pajaro'. Luego ingresa todos los datos para armar el array y luego lo convierto en valores numericos.\n",
    "\n"
   ]
  },
  {
   "cell_type": "code",
   "execution_count": 29,
   "metadata": {},
   "outputs": [
    {
     "name": "stdout",
     "output_type": "stream",
     "text": [
      "Ingresa las etiquetas separadas por coma perro, gato, rata\n",
      "Ingresa las etiquetas separadas por coma perro, gato, rata, rata\n",
      "[0, 1, 2, 2]\n"
     ]
    }
   ],
   "source": [
    "etiquetas = input('Ingresa las etiquetas separadas por coma ')\n",
    "keys = etiquetas.split(',')\n",
    "values = list(range(len(keys)))\n",
    "              \n",
    "hash = {k:v for k, v in zip(keys, values)}\n",
    "\n",
    "datos = input('Ingresa las etiquetas separadas por coma ')\n",
    "data = datos.split(',')\n",
    "\n",
    "key_number = list()\n",
    "for i in range(len(data)):\n",
    "    key_number.append(hash[data[i]])\n",
    "    \n",
    "print(key_number)"
   ]
  }
 ],
 "metadata": {
  "kernelspec": {
   "display_name": "Python 3",
   "language": "python",
   "name": "python3"
  },
  "language_info": {
   "codemirror_mode": {
    "name": "ipython",
    "version": 3
   },
   "file_extension": ".py",
   "mimetype": "text/x-python",
   "name": "python",
   "nbconvert_exporter": "python",
   "pygments_lexer": "ipython3",
   "version": "3.6.1"
  }
 },
 "nbformat": 4,
 "nbformat_minor": 2
}
