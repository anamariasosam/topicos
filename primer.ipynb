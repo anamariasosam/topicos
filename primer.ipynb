{
 "cells": [
  {
   "cell_type": "code",
   "execution_count": 28,
   "metadata": {},
   "outputs": [
    {
     "name": "stdout",
     "output_type": "stream",
     "text": [
      "0.5678000000000338\n"
     ]
    }
   ],
   "source": [
    "s = 1234.5678\n",
    "print(s - int(s))"
   ]
  },
  {
   "cell_type": "code",
   "execution_count": 31,
   "metadata": {},
   "outputs": [
    {
     "name": "stdout",
     "output_type": "stream",
     "text": [
      "Ingresa un número: 23.6\n",
      "0.6000000000000014\n"
     ]
    }
   ],
   "source": [
    "number = float(input('Ingresa un número: '))\n",
    "integer = int(number)\n",
    "decimal = number - integer\n",
    "\n",
    "# Parte Entera\n",
    "potencia = 7\n",
    "binario = []\n",
    "while (potencia > -1):\n",
    "    x = pow(2, potencia)\n",
    "    if integer >= x:\n",
    "        integer = integer - x\n",
    "        binario.append(1)\n",
    "    else:\n",
    "        binario.append(0)\n",
    "    potencia = potencia - 1\n",
    "\n",
    "binario.append('.')\n",
    "print(decimal)\n",
    "\n",
    "# Parte Decimal\n",
    "\n"
   ]
  }
 ],
 "metadata": {
  "kernelspec": {
   "display_name": "Python 3",
   "language": "python",
   "name": "python3"
  },
  "language_info": {
   "codemirror_mode": {
    "name": "ipython",
    "version": 3
   },
   "file_extension": ".py",
   "mimetype": "text/x-python",
   "name": "python",
   "nbconvert_exporter": "python",
   "pygments_lexer": "ipython3",
   "version": "3.6.1"
  }
 },
 "nbformat": 4,
 "nbformat_minor": 2
}
