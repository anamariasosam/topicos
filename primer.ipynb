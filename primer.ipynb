number = float(input('Ingresa un número: '))
integer = int(number)
decimal = number - integer

# Parte Entera
potencia = 7
binario = []
while (potencia > -1):
    x = pow(2, potencia)
    if integer >= x:
        integer = integer - x
        binario.append(1)
    else:
        binario.append(0)
    potencia = potencia - 1

binario.append('.')
print(decimal)

# Parte Decimal
