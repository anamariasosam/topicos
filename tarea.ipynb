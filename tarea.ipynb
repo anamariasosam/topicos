{
 "cells": [
  {
   "cell_type": "code",
   "execution_count": 45,
   "metadata": {},
   "outputs": [],
   "source": [
    "import numpy as np\n",
    "from sklearn.datasets.mldata import fetch_mldata\n",
    "import tempfile\n",
    "from sklearn import datasets\n",
    "from sklearn.linear_model import LogisticRegression\n",
    "from sklearn.cross_validation import train_test_split\n",
    "from sklearn.preprocessing import StandardScaler\n",
    "from sklearn.metrics import classification_report\n",
    "from sklearn.naive_bayes import GaussianNB\n",
    "import matplotlib.pyplot as plt \n",
    "from sklearn.cluster import KMeans \n",
    "from sklearn import cluster"
   ]
  },
  {
   "cell_type": "code",
   "execution_count": 7,
   "metadata": {},
   "outputs": [],
   "source": [
    "test_data_home = tempfile.mkdtemp()\n",
    "leuk = fetch_mldata('leukemia', transpose_data=True, data_home=test_data_home)\n",
    "\n",
    "X = leuk['data']\n",
    "\n",
    "y = leuk['target']"
   ]
  },
  {
   "cell_type": "code",
   "execution_count": 8,
   "metadata": {},
   "outputs": [
    {
     "name": "stdout",
     "output_type": "stream",
     "text": [
      "[-1  1]\n"
     ]
    }
   ],
   "source": [
    "print(np.unique(y))"
   ]
  },
  {
   "cell_type": "markdown",
   "metadata": {},
   "source": [
    "# Preprocesamiento - Remoción de la media"
   ]
  },
  {
   "cell_type": "code",
   "execution_count": 100,
   "metadata": {},
   "outputs": [],
   "source": [
    "X_train, X_test, y_train, y_test = train_test_split(X, y, test_size=0.3, random_state=3)\n",
    "\n",
    "def remocion_train(X):\n",
    "    X = X - X.mean(axis=0)\n",
    "    X = X/X.std(axis=0)\n",
    "    \n",
    "    return X\n",
    "\n",
    "def remocion_test(X_test):\n",
    "    media = X_train.mean(axis=0)\n",
    "    desviacion = X_train.std(axis=0)\n",
    "    \n",
    "    X_test = X_test - media\n",
    "    X_test = X_test/desviacion\n",
    "    \n",
    "    return X_test\n",
    "\n",
    "x_train_norm = remocion_train(X_train)\n",
    "x_test_norm = remocion_test(X_test)"
   ]
  },
  {
   "cell_type": "markdown",
   "metadata": {},
   "source": [
    "# Regresión Logística"
   ]
  },
  {
   "cell_type": "code",
   "execution_count": 41,
   "metadata": {},
   "outputs": [
    {
     "name": "stdout",
     "output_type": "stream",
     "text": [
      "numero de muestras iguales fueron 21 / 22\n",
      "Porcentaje es: 95.454545\n"
     ]
    }
   ],
   "source": [
    "# Regresión logística\n",
    "clasificador = LogisticRegression(C=1000.0, random_state=0)\n",
    "clasificador.fit(x_train_norm, y_train)\n",
    "y_pred = clasificador.predict(x_test_norm)\n",
    "\n",
    "\n",
    "iguales = (y_test == y_pred).sum()\n",
    "n = len(y_pred)\n",
    "porcentaje = (iguales / n)*100\n",
    "print('numero de muestras iguales fueron %d / %d'%( iguales, n))\n",
    "print('Porcentaje es: %f' %(porcentaje))"
   ]
  },
  {
   "cell_type": "code",
   "execution_count": 42,
   "metadata": {},
   "outputs": [
    {
     "name": "stdout",
     "output_type": "stream",
     "text": [
      "\n",
      "************************************************************\n",
      "Desempeño del clasificador sobre el conjunto de entranamiento\n",
      "               precision    recall  f1-score   support\n",
      "\n",
      "Primera Clase       1.00      1.00      1.00        16\n",
      "Segunda Clase       1.00      1.00      1.00        34\n",
      "\n",
      "  avg / total       1.00      1.00      1.00        50\n",
      "\n",
      "\n",
      "************************************************************\n",
      "\n",
      "************************************************************\n",
      "Desempeño del clasificador sobre el conjunto de validacion\n",
      "               precision    recall  f1-score   support\n",
      "\n",
      "Primera Clase       0.90      1.00      0.95         9\n",
      "Segunda Clase       1.00      0.92      0.96        13\n",
      "\n",
      "  avg / total       0.96      0.95      0.95        22\n",
      "\n",
      "\n",
      "************************************************************\n"
     ]
    }
   ],
   "source": [
    "nombres_clases = ['Primera Clase', 'Segunda Clase']\n",
    "print('\\n'+'*'*60)\n",
    "print('Desempeño del clasificador sobre el conjunto de entranamiento')\n",
    "print(classification_report(y_train, clasificador.predict(X_train), target_names = nombres_clases))\n",
    "print('\\n'+'*'*60)\n",
    "\n",
    "print('\\n'+'*'*60)\n",
    "print('Desempeño del clasificador sobre el conjunto de validacion')\n",
    "print(classification_report(y_test, y_pred, target_names = nombres_clases))\n",
    "print('\\n'+'*'*60)"
   ]
  },
  {
   "cell_type": "markdown",
   "metadata": {},
   "source": [
    "# Bayes Naive"
   ]
  },
  {
   "cell_type": "code",
   "execution_count": 43,
   "metadata": {},
   "outputs": [
    {
     "name": "stdout",
     "output_type": "stream",
     "text": [
      "numero de muestras iguales fueron 22 / 22\n",
      "Porcentaje es: 100.000000\n"
     ]
    }
   ],
   "source": [
    "clasificador = GaussianNB()\n",
    "clasificador.fit(X_train, y_train)\n",
    "y_pred = clasificador.predict(X_test)\n",
    "\n",
    "iguales = (y_test == y_pred).sum()\n",
    "n = len(y_pred)\n",
    "porcentaje = (iguales / n)*100\n",
    "print('numero de muestras iguales fueron %d / %d'%( iguales, n))\n",
    "print('Porcentaje es: %f' %(porcentaje))"
   ]
  },
  {
   "cell_type": "code",
   "execution_count": 44,
   "metadata": {},
   "outputs": [
    {
     "name": "stdout",
     "output_type": "stream",
     "text": [
      "\n",
      "************************************************************\n",
      "Desempeño del clasificador sobre el conjunto de entranamiento\n",
      "               precision    recall  f1-score   support\n",
      "\n",
      "Primera Clase       1.00      1.00      1.00        16\n",
      "Segunda Clase       1.00      1.00      1.00        34\n",
      "\n",
      "  avg / total       1.00      1.00      1.00        50\n",
      "\n",
      "\n",
      "************************************************************\n",
      "\n",
      "************************************************************\n",
      "Desempeño del clasificador sobre el conjunto de validacion\n",
      "               precision    recall  f1-score   support\n",
      "\n",
      "Primera Clase       1.00      1.00      1.00         9\n",
      "Segunda Clase       1.00      1.00      1.00        13\n",
      "\n",
      "  avg / total       1.00      1.00      1.00        22\n",
      "\n",
      "\n",
      "************************************************************\n"
     ]
    }
   ],
   "source": [
    "nombres_clases = ['Primera Clase', 'Segunda Clase']\n",
    "print('\\n'+'*'*60)\n",
    "print('Desempeño del clasificador sobre el conjunto de entranamiento')\n",
    "print(classification_report(y_train, clasificador.predict(X_train), target_names = nombres_clases))\n",
    "print('\\n'+'*'*60)\n",
    "\n",
    "print('\\n'+'*'*60)\n",
    "print('Desempeño del clasificador sobre el conjunto de validacion')\n",
    "print(classification_report(y_test, y_pred, target_names = nombres_clases))\n",
    "print('\\n'+'*'*60)"
   ]
  },
  {
   "cell_type": "markdown",
   "metadata": {},
   "source": [
    "# NO SUPERVISADO"
   ]
  },
  {
   "cell_type": "markdown",
   "metadata": {},
   "source": [
    "# Clúster"
   ]
  },
  {
   "cell_type": "code",
   "execution_count": 134,
   "metadata": {},
   "outputs": [
    {
     "name": "stdout",
     "output_type": "stream",
     "text": [
      "Clase -1: 29\n",
      "Clase 1: 43\n",
      "Porcentaje de acierto al clasificar: 55\n"
     ]
    }
   ],
   "source": [
    "num_cluster = 2\n",
    "\n",
    "modelo_kmeans = KMeans(init = 'k-means++', n_clusters = num_cluster, n_init = 10) # init establece el método de localización inicial de los centroides\n",
    "modelo_kmeans.fit(X)\n",
    "centroides = modelo_kmeans.cluster_centers_\n",
    "labels = modelo_kmeans.labels_\n",
    "\n",
    "print('Clase -1: %d' %(sum(labels == 1)))\n",
    "print('Clase 1: %d' %(sum(labels == 0)))\n",
    "\n",
    "labels_con_clase = list()\n",
    "for clase in labels:\n",
    "    dato = -1 if clase == 1 else 1\n",
    "    labels_con_clase.append(dato)\n",
    "    \n",
    "acc = 0\n",
    "for i in range(len(y)):\n",
    "    if labels_con_clase[i] == y[i]:\n",
    "        acc = acc + 1\n",
    "        \n",
    "print('Porcentaje de acierto al clasificar: %d' %(acc/len(y)*100))"
   ]
  }
 ],
 "metadata": {
  "kernelspec": {
   "display_name": "Python 3",
   "language": "python",
   "name": "python3"
  },
  "language_info": {
   "codemirror_mode": {
    "name": "ipython",
    "version": 3
   },
   "file_extension": ".py",
   "mimetype": "text/x-python",
   "name": "python",
   "nbconvert_exporter": "python",
   "pygments_lexer": "ipython3",
   "version": "3.6.1"
  }
 },
 "nbformat": 4,
 "nbformat_minor": 2
}
