{
 "cells": [
  {
   "cell_type": "code",
   "execution_count": 20,
   "metadata": {},
   "outputs": [],
   "source": [
    "import numpy as np\n",
    "from sklearn.datasets.mldata import fetch_mldata\n",
    "import tempfile\n",
    "from sklearn import datasets\n",
    "from sklearn.linear_model import LogisticRegression\n",
    "from sklearn.cross_validation import train_test_split\n",
    "from sklearn.preprocessing import StandardScaler\n",
    "from sklearn.metrics import classification_report\n",
    "from sklearn.naive_bayes import GaussianNB\n",
    "from sklearn.cluster import KMeans \n",
    "from sklearn import cluster\n",
    "from sklearn.mixture import GMM  # contiene los modelos de mezclas \n",
    "from sklearn.cross_validation import StratifiedKFold # Dividir por k-folds\n",
    "from sklearn.metrics import classification_report\n",
    "from sklearn import cross_validation\n",
    "from sklearn.tree import DecisionTreeClassifier\n",
    "from sklearn.ensemble import RandomForestClassifier, ExtraTreesClassifier"
   ]
  },
  {
   "cell_type": "code",
   "execution_count": 16,
   "metadata": {
    "collapsed": true
   },
   "outputs": [],
   "source": [
    "test_data_home = tempfile.mkdtemp()\n",
    "leuk = fetch_mldata('leukemia', transpose_data=True, data_home=test_data_home)\n",
    "\n",
    "X = leuk['data']\n",
    "\n",
    "y = leuk['target']"
   ]
  },
  {
   "cell_type": "code",
   "execution_count": 4,
   "metadata": {},
   "outputs": [
    {
     "name": "stdout",
     "output_type": "stream",
     "text": [
      "[-1  1]\n"
     ]
    }
   ],
   "source": [
    "print(np.unique(y))"
   ]
  },
  {
   "cell_type": "markdown",
   "metadata": {},
   "source": [
    "# Preprocesamiento - Remoción de la media"
   ]
  },
  {
   "cell_type": "code",
   "execution_count": 99,
   "metadata": {
    "collapsed": true
   },
   "outputs": [],
   "source": [
    "X_train, X_test, y_train, y_test = train_test_split(X, y, test_size=0.3, random_state=3)\n",
    "\n",
    "def remocion_train(X):\n",
    "    X = X - X.mean(axis=0)\n",
    "    X = X/X.std(axis=0)\n",
    "    \n",
    "    return X\n",
    "\n",
    "def remocion_test(X_test):\n",
    "    media = X_train.mean(axis=0)\n",
    "    desviacion = X_train.std(axis=0)\n",
    "    \n",
    "    X_test = X_test - media\n",
    "    X_test = X_test/desviacion\n",
    "    \n",
    "    return X_test\n",
    "\n",
    "x_train_norm = remocion_train(X_train)\n",
    "x_test_norm = remocion_test(X_test)"
   ]
  },
  {
   "cell_type": "markdown",
   "metadata": {},
   "source": [
    "# Regresión Logística"
   ]
  },
  {
   "cell_type": "code",
   "execution_count": 9,
   "metadata": {},
   "outputs": [
    {
     "name": "stdout",
     "output_type": "stream",
     "text": [
      "numero de muestras iguales fueron 21 / 22\n",
      "Porcentaje es: 95.454545\n"
     ]
    }
   ],
   "source": [
    "# Regresión logística\n",
    "clasificador = LogisticRegression(C=1000.0, random_state=0)\n",
    "clasificador.fit(x_train_norm, y_train)\n",
    "y_pred = clasificador.predict(x_test_norm)\n",
    "\n",
    "\n",
    "iguales = (y_test == y_pred).sum()\n",
    "n = len(y_pred)\n",
    "porcentaje = (iguales / n)*100\n",
    "print('numero de muestras iguales fueron %d / %d'%( iguales, n))\n",
    "print('Porcentaje es: %f' %(porcentaje))"
   ]
  },
  {
   "cell_type": "code",
   "execution_count": 10,
   "metadata": {},
   "outputs": [
    {
     "name": "stdout",
     "output_type": "stream",
     "text": [
      "\n",
      "************************************************************\n",
      "Desempeño del clasificador sobre el conjunto de entranamiento\n",
      "               precision    recall  f1-score   support\n",
      "\n",
      "Primera Clase       1.00      1.00      1.00        16\n",
      "Segunda Clase       1.00      1.00      1.00        34\n",
      "\n",
      "  avg / total       1.00      1.00      1.00        50\n",
      "\n",
      "\n",
      "************************************************************\n",
      "\n",
      "************************************************************\n",
      "Desempeño del clasificador sobre el conjunto de validacion\n",
      "               precision    recall  f1-score   support\n",
      "\n",
      "Primera Clase       0.90      1.00      0.95         9\n",
      "Segunda Clase       1.00      0.92      0.96        13\n",
      "\n",
      "  avg / total       0.96      0.95      0.95        22\n",
      "\n",
      "\n",
      "************************************************************\n"
     ]
    }
   ],
   "source": [
    "nombres_clases = ['Primera Clase', 'Segunda Clase']\n",
    "print('\\n'+'*'*60)\n",
    "print('Desempeño del clasificador sobre el conjunto de entranamiento')\n",
    "print(classification_report(y_train, clasificador.predict(X_train), target_names = nombres_clases))\n",
    "print('\\n'+'*'*60)\n",
    "\n",
    "print('\\n'+'*'*60)\n",
    "print('Desempeño del clasificador sobre el conjunto de validacion')\n",
    "print(classification_report(y_test, y_pred, target_names = nombres_clases))\n",
    "print('\\n'+'*'*60)"
   ]
  },
  {
   "cell_type": "markdown",
   "metadata": {},
   "source": [
    "# Bayes Naive"
   ]
  },
  {
   "cell_type": "code",
   "execution_count": 11,
   "metadata": {},
   "outputs": [
    {
     "name": "stdout",
     "output_type": "stream",
     "text": [
      "numero de muestras iguales fueron 22 / 22\n",
      "Porcentaje es: 100.000000\n"
     ]
    }
   ],
   "source": [
    "clasificador = GaussianNB()\n",
    "clasificador.fit(X_train, y_train)\n",
    "y_pred = clasificador.predict(X_test)\n",
    "\n",
    "iguales = (y_test == y_pred).sum()\n",
    "n = len(y_pred)\n",
    "porcentaje = (iguales / n)*100\n",
    "print('numero de muestras iguales fueron %d / %d'%( iguales, n))\n",
    "print('Porcentaje es: %f' %(porcentaje))"
   ]
  },
  {
   "cell_type": "code",
   "execution_count": 12,
   "metadata": {},
   "outputs": [
    {
     "name": "stdout",
     "output_type": "stream",
     "text": [
      "\n",
      "************************************************************\n",
      "Desempeño del clasificador sobre el conjunto de entranamiento\n",
      "               precision    recall  f1-score   support\n",
      "\n",
      "Primera Clase       1.00      1.00      1.00        16\n",
      "Segunda Clase       1.00      1.00      1.00        34\n",
      "\n",
      "  avg / total       1.00      1.00      1.00        50\n",
      "\n",
      "\n",
      "************************************************************\n",
      "\n",
      "************************************************************\n",
      "Desempeño del clasificador sobre el conjunto de validacion\n",
      "               precision    recall  f1-score   support\n",
      "\n",
      "Primera Clase       1.00      1.00      1.00         9\n",
      "Segunda Clase       1.00      1.00      1.00        13\n",
      "\n",
      "  avg / total       1.00      1.00      1.00        22\n",
      "\n",
      "\n",
      "************************************************************\n"
     ]
    }
   ],
   "source": [
    "nombres_clases = ['Primera Clase', 'Segunda Clase']\n",
    "print('\\n'+'*'*60)\n",
    "print('Desempeño del clasificador sobre el conjunto de entranamiento')\n",
    "print(classification_report(y_train, clasificador.predict(X_train), target_names = nombres_clases))\n",
    "print('\\n'+'*'*60)\n",
    "\n",
    "print('\\n'+'*'*60)\n",
    "print('Desempeño del clasificador sobre el conjunto de validacion')\n",
    "print(classification_report(y_test, y_pred, target_names = nombres_clases))\n",
    "print('\\n'+'*'*60)"
   ]
  },
  {
   "cell_type": "markdown",
   "metadata": {},
   "source": [
    "# NO SUPERVISADO"
   ]
  },
  {
   "cell_type": "markdown",
   "metadata": {},
   "source": [
    "# Clúster"
   ]
  },
  {
   "cell_type": "code",
   "execution_count": 85,
   "metadata": {},
   "outputs": [
    {
     "name": "stdout",
     "output_type": "stream",
     "text": [
      "Clase 1: 42\n",
      "Clase -1: 30\n",
      "Procentaje iguales:\n",
      "54.1666666667\n"
     ]
    }
   ],
   "source": [
    "num_cluster = 2\n",
    "\n",
    "modelo_kmeans = KMeans(init = 'k-means++', n_clusters = num_cluster, n_init = 10) # init establece el método de localización inicial de los centroides\n",
    "modelo_kmeans.fit(X)\n",
    "centroides = modelo_kmeans.cluster_centers_\n",
    "labels = modelo_kmeans.labels_\n",
    "\n",
    "print('Clase 1: %d' %(sum(labels == 1)))\n",
    "print('Clase -1: %d' %(sum(labels == 0)))\n",
    "\n",
    "labels_con_clase = list()\n",
    "for clase in labels:\n",
    "    dato = 1 if clase == 1 else -1\n",
    "    labels_con_clase.append(dato)\n",
    "\n",
    "print('Procentaje iguales:')\n",
    "print((labels_con_clase == y).sum()/len(y)*100)"
   ]
  },
  {
   "cell_type": "markdown",
   "metadata": {},
   "source": [
    "# Modelo GMM"
   ]
  },
  {
   "cell_type": "code",
   "execution_count": 5,
   "metadata": {},
   "outputs": [
    {
     "name": "stderr",
     "output_type": "stream",
     "text": [
      "C:\\Users\\s107e21\\Anaconda3\\lib\\site-packages\\sklearn\\utils\\deprecation.py:52: DeprecationWarning: Class GMM is deprecated; The class GMM is deprecated in 0.18 and will be  removed in 0.20. Use class GaussianMixture instead.\n",
      "  warnings.warn(msg, category=DeprecationWarning)\n",
      "C:\\Users\\s107e21\\Anaconda3\\lib\\site-packages\\sklearn\\utils\\deprecation.py:70: DeprecationWarning: Function distribute_covar_matrix_to_match_covariance_type is deprecated; The functon distribute_covar_matrix_to_match_covariance_typeis deprecated in 0.18 and will be removed in 0.20.\n",
      "  warnings.warn(msg, category=DeprecationWarning)\n",
      "C:\\Users\\s107e21\\Anaconda3\\lib\\site-packages\\sklearn\\utils\\deprecation.py:70: DeprecationWarning: Function log_multivariate_normal_density is deprecated; The function log_multivariate_normal_density is deprecated in 0.18 and will be removed in 0.20.\n",
      "  warnings.warn(msg, category=DeprecationWarning)\n",
      "C:\\Users\\s107e21\\Anaconda3\\lib\\site-packages\\sklearn\\utils\\deprecation.py:70: DeprecationWarning: Function log_multivariate_normal_density is deprecated; The function log_multivariate_normal_density is deprecated in 0.18 and will be removed in 0.20.\n",
      "  warnings.warn(msg, category=DeprecationWarning)\n",
      "C:\\Users\\s107e21\\Anaconda3\\lib\\site-packages\\sklearn\\utils\\deprecation.py:70: DeprecationWarning: Function log_multivariate_normal_density is deprecated; The function log_multivariate_normal_density is deprecated in 0.18 and will be removed in 0.20.\n",
      "  warnings.warn(msg, category=DeprecationWarning)\n",
      "C:\\Users\\s107e21\\Anaconda3\\lib\\site-packages\\sklearn\\utils\\deprecation.py:70: DeprecationWarning: Function log_multivariate_normal_density is deprecated; The function log_multivariate_normal_density is deprecated in 0.18 and will be removed in 0.20.\n",
      "  warnings.warn(msg, category=DeprecationWarning)\n",
      "C:\\Users\\s107e21\\Anaconda3\\lib\\site-packages\\sklearn\\utils\\deprecation.py:70: DeprecationWarning: Function log_multivariate_normal_density is deprecated; The function log_multivariate_normal_density is deprecated in 0.18 and will be removed in 0.20.\n",
      "  warnings.warn(msg, category=DeprecationWarning)\n"
     ]
    },
    {
     "name": "stdout",
     "output_type": "stream",
     "text": [
      "Porcentaje iguales entrenamiento: 100\n"
     ]
    },
    {
     "name": "stderr",
     "output_type": "stream",
     "text": [
      "C:\\Users\\s107e21\\Anaconda3\\lib\\site-packages\\sklearn\\utils\\deprecation.py:70: DeprecationWarning: Function log_multivariate_normal_density is deprecated; The function log_multivariate_normal_density is deprecated in 0.18 and will be removed in 0.20.\n",
      "  warnings.warn(msg, category=DeprecationWarning)\n"
     ]
    },
    {
     "name": "stdout",
     "output_type": "stream",
     "text": [
      "Porcentaje iguales test: 100\n"
     ]
    }
   ],
   "source": [
    "indices = StratifiedKFold(y, n_folds=4)\n",
    "\n",
    "train_index, test_index = next(iter(indices))\n",
    "\n",
    "y = np.where(y==-1,0, y)\n",
    "\n",
    "X_train = X[train_index]\n",
    "y_train = y[train_index]\n",
    "\n",
    "X_test = X[test_index]\n",
    "y_test = y[test_index]\n",
    "\n",
    "\n",
    "numero_clases = len(np.unique(y_train))\n",
    "\n",
    "clasificador = GMM(n_components = numero_clases, covariance_type = 'full', init_params='w', n_iter=20)\n",
    "clasificador.means_ = np.array([X_train[y_train==i].mean(axis=0) for i in range(numero_clases)])\n",
    "\n",
    "\n",
    "clasificador.fit(X_train)\n",
    "\n",
    "\n",
    "y_train_predict = clasificador.predict(X_train)\n",
    "acc_train = np.mean(y_train_predict.ravel() == y_train.ravel())*100\n",
    "print('Porcentaje iguales entrenamiento: %d' %acc_train)\n",
    "\n",
    "y_test_predict = clasificador.predict(X_test)\n",
    "acc_test = np.mean(y_test_predict.ravel() == y_test.ravel())*100\n",
    "print('Porcentaje iguales test: %d' %acc_test)"
   ]
  },
  {
   "cell_type": "markdown",
   "metadata": {},
   "source": [
    "# Arboles de decision"
   ]
  },
  {
   "cell_type": "code",
   "execution_count": 18,
   "metadata": {},
   "outputs": [
    {
     "name": "stdout",
     "output_type": "stream",
     "text": [
      "\n",
      "************************************************************\n",
      "Desempeño del clasificador sobre el conjunto de entranamiento\n",
      "               precision    recall  f1-score   support\n",
      "\n",
      "Primera Clase       1.00      1.00      1.00        19\n",
      "Segunda clase       1.00      1.00      1.00        35\n",
      "\n",
      "  avg / total       1.00      1.00      1.00        54\n",
      "\n",
      "\n",
      "************************************************************\n",
      "\n",
      "************************************************************\n",
      "Desempeño del clasificador sobre el conjunto de validacion\n",
      "               precision    recall  f1-score   support\n",
      "\n",
      "Primera Clase       1.00      0.83      0.91         6\n",
      "Segunda clase       0.92      1.00      0.96        12\n",
      "\n",
      "  avg / total       0.95      0.94      0.94        18\n",
      "\n",
      "\n",
      "************************************************************\n"
     ]
    }
   ],
   "source": [
    "X_train, X_test, y_train, y_test = cross_validation.train_test_split(X, y, test_size=0.25, random_state=5)\n",
    "\n",
    "clase0 = np.array(X[y==-1])\n",
    "clase1 = np.array(X[y==1])\n",
    "\n",
    "parametros = {'random_state':0, 'max_depth':4}\n",
    "\n",
    "\n",
    "clasificador = DecisionTreeClassifier(**parametros)\n",
    "\n",
    "clasificador.fit(X_train, y_train)\n",
    "\n",
    "y_test_pred = clasificador.predict(X_test)\n",
    "\n",
    "\n",
    "nombres_clases = ['Primera Clase', 'Segunda clase']\n",
    "print('\\n'+'*'*60)\n",
    "print('Desempeño del clasificador sobre el conjunto de entranamiento')\n",
    "print(classification_report(y_train, clasificador.predict(X_train), target_names = nombres_clases))\n",
    "print('\\n'+'*'*60)\n",
    "\n",
    "print('\\n'+'*'*60)\n",
    "print('Desempeño del clasificador sobre el conjunto de validacion')\n",
    "print(classification_report(y_test, y_test_pred, target_names = nombres_clases))\n",
    "print('\\n'+'*'*60)\n"
   ]
  },
  {
   "cell_type": "markdown",
   "metadata": {},
   "source": [
    "# Bosques Aleatorios"
   ]
  },
  {
   "cell_type": "code",
   "execution_count": 22,
   "metadata": {},
   "outputs": [
    {
     "name": "stdout",
     "output_type": "stream",
     "text": [
      "\n",
      "************************************************************\n",
      "Desempeño del clasificador sobre el conjunto de entranamiento\n",
      "               precision    recall  f1-score   support\n",
      "\n",
      "Primera Clase       1.00      1.00      1.00        19\n",
      "Segunda clase       1.00      1.00      1.00        35\n",
      "\n",
      "  avg / total       1.00      1.00      1.00        54\n",
      "\n",
      "\n",
      "************************************************************\n",
      "\n",
      "************************************************************\n",
      "Desempeño del clasificador sobre el conjunto de validacion\n",
      "               precision    recall  f1-score   support\n",
      "\n",
      "Primera Clase       1.00      1.00      1.00         6\n",
      "Segunda clase       1.00      1.00      1.00        12\n",
      "\n",
      "  avg / total       1.00      1.00      1.00        18\n",
      "\n",
      "\n",
      "************************************************************\n"
     ]
    }
   ],
   "source": [
    "tipo_clasificador = 'ba'\n",
    "\n",
    "parametros = { 'n_estimators':100, 'max_depth': 4, 'random_state':0}\n",
    "\n",
    "if tipo_clasificador == 'ba':\n",
    "    # Bosque aleatorio\n",
    "    clasificador = RandomForestClassifier(**parametros)\n",
    "else:\n",
    "    # Bosque extra aleatorio\n",
    "    clasificador = ExtraTreesClassifier(**parametros)\n",
    "\n",
    "# Entrenamos el clasificador\n",
    "clasificador.fit(X_train, y_train)\n",
    "\n",
    "#validamos el clasificador\n",
    "y_test_pred = clasificador.predict(X_test)\n",
    "\n",
    "\n",
    "nombres_clases = ['Primera Clase', 'Segunda clase']\n",
    "print('\\n'+'*'*60)\n",
    "print('Desempeño del clasificador sobre el conjunto de entranamiento')\n",
    "print(classification_report(y_train, clasificador.predict(X_train), target_names = nombres_clases))\n",
    "print('\\n'+'*'*60)\n",
    "\n",
    "print('\\n'+'*'*60)\n",
    "print('Desempeño del clasificador sobre el conjunto de validacion')\n",
    "print(classification_report(y_test, y_test_pred, target_names = nombres_clases))\n",
    "print('\\n'+'*'*60)\n"
   ]
  }
 ],
 "metadata": {
  "kernelspec": {
   "display_name": "Python 3",
   "language": "python",
   "name": "python3"
  },
  "language_info": {
   "codemirror_mode": {
    "name": "ipython",
    "version": 3
   },
   "file_extension": ".py",
   "mimetype": "text/x-python",
   "name": "python",
   "nbconvert_exporter": "python",
   "pygments_lexer": "ipython3",
   "version": "3.6.1"
  }
 },
 "nbformat": 4,
 "nbformat_minor": 2
}
